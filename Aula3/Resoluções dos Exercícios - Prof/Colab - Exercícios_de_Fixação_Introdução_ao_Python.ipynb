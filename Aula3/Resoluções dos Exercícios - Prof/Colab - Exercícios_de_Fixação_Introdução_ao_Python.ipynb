{
  "nbformat": 4,
  "nbformat_minor": 0,
  "metadata": {
    "colab": {
      "name": "Exercícios de Fixação - Introdução ao Python.ipynb",
      "provenance": []
    },
    "kernelspec": {
      "name": "python3",
      "display_name": "Python 3"
    }
  },
  "cells": [
    {
      "cell_type": "markdown",
      "metadata": {
        "id": "ZNipGMHXyRMU"
      },
      "source": [
        "1. Dado o arquivo qbdata.txt, retorne o rating de cada QB na forma “nome do QB teve valor XX.X’"
      ]
    },
    {
      "cell_type": "code",
      "metadata": {
        "colab": {
          "base_uri": "https://localhost:8080/"
        },
        "id": "YSyen8jruJGL",
        "outputId": "1a1b1609-fd57-45ec-987c-fe483fc9f449"
      },
      "source": [
        "# para o uso de arquivos no Google Colab:\r\n",
        "from google.colab import drive\r\n",
        "drive.mount('/content/drive')\r\n",
        "\r\n",
        "#para o uso de arquivos localmente, basta chamar o arquivo e informar onde está o arquivo. Caso o arquivo esteja na mesma pasta, basta informar o nome do arquivo e a extensão ('qbdata.txt')\r\n",
        "infile = open('/content/drive/My Drive/arquivos_txt/qbdata.txt', 'r')\r\n",
        "\r\n",
        "# usei uma leitura por linhas, que me retorna uma lista sendo cada elemento uma linha do arquivo\r\n",
        "conteudo = infile.readlines()\r\n",
        "\r\n",
        "# a estrutura de repetição for vai passar por todos os elementos da lista, ou seja, por todas as linhas do arquivo. \r\n",
        "# Como eu não quero usar a 1ª linha, uso o slice para excluir essa linha da minha análise -> [1:].\r\n",
        "for linha in conteudo[1:]:\r\n",
        "  # primeiro: pegar o nome do QB. Preciso fazer o split da linha. Fiz com espaços, para separar cada informação. \r\n",
        "  # Além disso, vejo que o nome do QB é formado pelos dois primeiros elementos. Então salvo só esses dois elementos por meio do slicing.\r\n",
        "  nome_qb_lista = linha.split()[0:2]\r\n",
        "  \r\n",
        "  # para deixar na formatação solicitada, faço então o join:\r\n",
        "  nome_qb = \" \".join(nome_qb_lista)\r\n",
        "\r\n",
        "  # Pronto! Agora preciso pegar a informação do rating. Essa informação é o último elemento da linha. Então, basta eu usar o slicing pegando o último elemento que tenho o rating!\r\n",
        "  rating = linha.split()[-1]\r\n",
        "\r\n",
        "  # Com as duas informações já em mãos, agora vou fazer a concatenação de strings, para formar a sentença que me foi solicitada:\r\n",
        "  info = nome_qb + \" teve valor \" + rating \r\n",
        "  print(info)"
      ],
      "execution_count": null,
      "outputs": [
        {
          "output_type": "stream",
          "text": [
            "Drive already mounted at /content/drive; to attempt to forcibly remount, call drive.mount(\"/content/drive\", force_remount=True).\n",
            "Colt McCoy teve valor 74.5\n",
            "Josh Freeman teve valor 95.9\n",
            "Michael Vick teve valor 100.2\n",
            "Matt Schaub teve valor 92.0\n",
            "Philip Rivers teve valor 101.8\n",
            "Matt Hasselbeck teve valor 73.2\n",
            "Jimmy Clausen teve valor 58.4\n",
            "Joe Flacco teve valor 93.6\n",
            "Kyle Orton teve valor 87.5\n",
            "Jason Campbell teve valor 84.5\n",
            "Peyton Manning teve valor 91.9\n",
            "Drew Brees teve valor 90.9\n",
            "Matt Ryan teve valor 91.0\n",
            "Matt Cassel teve valor 93.0\n",
            "Mark Sanchez teve valor 75.3\n",
            "Brett Favre teve valor 69.9\n",
            "David Garrard teve valor 90.8\n",
            "Eli Manning teve valor 85.3\n",
            "Carson Palmer teve valor 82.4\n",
            "Alex Smith teve valor 82.1\n",
            "Chad Henne teve valor 75.4\n",
            "Tony Romo teve valor 94.9\n",
            "Jay Cutler teve valor 86.3\n",
            "Jon Kitna teve valor 88.9\n",
            "Tom Brady teve valor 111.0\n",
            "Ben Roethlisberger teve valor 97.0\n",
            "Kerry Collins teve valor 82.2\n",
            "Derek Anderson teve valor 65.9\n",
            "Ryan Fitzpatrick teve valor 81.8\n",
            "Donovan McNabb teve valor 77.1\n",
            "Kevin Kolb teve valor 76.1\n",
            "Aaron Rodgers teve valor 101.2\n",
            "Sam Bradford teve valor 76.5\n",
            "Shaun Hill teve valor 81.3\n"
          ],
          "name": "stdout"
        }
      ]
    },
    {
      "cell_type": "markdown",
      "metadata": {
        "id": "poMceDLThGHA"
      },
      "source": [
        "2. Pensando em uma agenda, construa um dicionário com informações do contato sendo: CPF, nome, telefone e user no Twitter. Ao final, imprima todos os contatos na forma:\r\n",
        "\r\n",
        "  CPF: nome, telefone (user)\r\n"
      ]
    },
    {
      "cell_type": "code",
      "metadata": {
        "colab": {
          "base_uri": "https://localhost:8080/"
        },
        "id": "epc-5-AXhSH0",
        "outputId": "de3742cb-1bf0-4ed0-8750-982149b951e9"
      },
      "source": [
        "# CENÁRIO 1: apenas um telefone por contato\r\n",
        "\r\n",
        "# criação do dicionário\r\n",
        "dict_agenda = {}\r\n",
        "\r\n",
        "# povoando o dicionário com o primeiro registro. Decidi colocar o CPF como chave do registro.\r\n",
        "# decidi colocar uma lista porque é mais fácil de manipular quando formos imprimir, além de termos mais de uma informação para uma chave.\r\n",
        "dict_agenda['000.000.000-00'] = []\r\n",
        "dict_agenda['000.000.000-00'].append('Roney Lira')\r\n",
        "dict_agenda['000.000.000-00'].append(86999999999)\r\n",
        "dict_agenda['000.000.000-00'].append('@roneysco')\r\n",
        "\r\n",
        "# segundo registro\r\n",
        "dict_agenda['111.111.111-11'] = []\r\n",
        "dict_agenda['111.111.111-11'].append('Roney Santos')\r\n",
        "dict_agenda['111.111.111-11'].append(119999999999)\r\n",
        "dict_agenda['111.111.111-11'].append('@roney2')\r\n",
        "\r\n",
        "# terceiro registro...\r\n",
        "dict_agenda['222.222.222-22'] = []\r\n",
        "dict_agenda['222.222.222-22'].append('Alguem Alguem')\r\n",
        "dict_agenda['222.222.222-22'].append(359999999999)\r\n",
        "dict_agenda['222.222.222-22'].append('@alguem')\r\n",
        "\r\n",
        "# agora vamos iterar sobre os items do dicionário, para imprimir as informações solicitadas.\r\n",
        "for chave, valor in dict_agenda.items():\r\n",
        "  # o cpf do registro é a chave, então basta criar uma variável que vai receber a chave de cada item do dicionário.\r\n",
        "  cpf = chave\r\n",
        "\r\n",
        "  # temos uma lista como o valor, então, cada elemento de lista é um dos dados solicitados da agenda.\r\n",
        "  # a 1ª posição da lista é o nome; a 2ª posição da lista é o telefone e a 3ª posição da lista é o user no twitter. Então usaremos os princípios de lista! \r\n",
        "  nome = valor[0]\r\n",
        "  telefone = valor[1]\r\n",
        "  user = valor[2]\r\n",
        "\r\n",
        "  # agora basta fazer a manipulação de strings para mostrar a informação solicitada, olha só:\r\n",
        "  # VALE LEMBRAR: strings só são concatenadas com strings, ok? Então não podemos esquecer de fazer o CAST na variável 'telefone', que é um inteiro.\r\n",
        "  info = cpf + \": \" + nome + \", \" + str(telefone) + \" (\" + user + \")\"\r\n",
        "  print(info)\r\n"
      ],
      "execution_count": null,
      "outputs": [
        {
          "output_type": "stream",
          "text": [
            "000.000.000-00: Roney Lira, 86999999999 (@roneysco)\n",
            "111.111.111-11: Roney Santos, 119999999999 (@roney2)\n",
            "222.222.222-22: Alguem Alguem, 359999999999 (@alguem)\n"
          ],
          "name": "stdout"
        }
      ]
    },
    {
      "cell_type": "code",
      "metadata": {
        "colab": {
          "base_uri": "https://localhost:8080/"
        },
        "id": "KdcX9gFNIkij",
        "outputId": "ea545c98-0c57-439c-bcfa-7142208133a2"
      },
      "source": [
        "# CENÁRIO 2: mais de um telefone por contato\r\n",
        "\r\n",
        "# criação do dicionário\r\n",
        "dict_agenda = {}\r\n",
        "\r\n",
        "# assim como no cenário anterior, decidi colocar o CPF como chave. Manterei também a lista como o organizador dos valores\r\n",
        "\r\n",
        "dict_agenda['000.000.000-00'] = []\r\n",
        "dict_agenda['000.000.000-00'].append('Roney Lira')\r\n",
        "\r\n",
        "# para adicionar os telefones, criarei uma lista, que vai conter um ou mais telefones do registro. Colocarei 3:\r\n",
        "lista_telefones = [86999999999, 16999999999, 85999999999] \r\n",
        "\r\n",
        "# e basta usar o append() sendo a lista de telefones como parâmetro para ela ser inserida na lista de valores do registro!\r\n",
        "# isso faz com que a lista de telefones seja inserida ao final da lista de valores, mantendo o nosso padrão para a visualização das informações mais a seguir!\r\n",
        "dict_agenda['000.000.000-00'].append(lista_telefones)\r\n",
        "\r\n",
        "# o user no Twitter pode voltar a ser o append().\r\n",
        "dict_agenda['000.000.000-00'].append('@roneysco')\r\n",
        "\r\n",
        "# fazemos o mesmo processo para o segundo registro... \r\n",
        "# veja uma forma mais 'direta' de adicionar a lista:\r\n",
        "dict_agenda['111.111.111-11'] = []\r\n",
        "dict_agenda['111.111.111-11'].append('Roney Santos')\r\n",
        "dict_agenda['111.111.111-11'].append([119999999999, 929999999999, 339999999999])\r\n",
        "dict_agenda['111.111.111-11'].append('@roney2')\r\n",
        "\r\n",
        "# ... e para o terceiro registro!\r\n",
        "dict_agenda['222.222.222-22'] = []\r\n",
        "dict_agenda['222.222.222-22'].append('Alguem Alguem')\r\n",
        "dict_agenda['222.222.222-22'].append([359999999999, 419999999999])\r\n",
        "dict_agenda['222.222.222-22'].append('@alguem')\r\n",
        "\r\n",
        "# agora vamos imprimir os contatos como foi solicitado. A mostragem do CPF, nome e o user são as mesmas do cenário 1:\r\n",
        "for chave, valor in dict_agenda.items():\r\n",
        "\r\n",
        "  cpf = chave\r\n",
        "  nome = valor[0]\r\n",
        "  user = valor[2]\r\n",
        "\r\n",
        "  # para pegarmos as informações do telefone, iremos utilizar uma outra estrutura de controle, para caminhar pela lista de telefones.\r\n",
        "  # como vimos que tem listas com quantidade diferente de telefones, devemos fazer uma busca mais genérica.\r\n",
        "  # lembrando que nossa lista de telefones é o 2º elemento na lista de valores, portanto, identificado como valor[1]:\r\n",
        "  for numero in valor[1]:\r\n",
        "    telefone = numero\r\n",
        "\r\n",
        "    # e aqui dentro do 2º 'for' é que eu mostro as informações solicitadas:\r\n",
        "    info = cpf + \": \" + nome + \", \" + str(telefone) + \" (\" + user + \")\"\r\n",
        "    print(info)"
      ],
      "execution_count": null,
      "outputs": [
        {
          "output_type": "stream",
          "text": [
            "{'000.000.000-00': ['Roney Lira', [86999999999, 16999999999, 85999999999], '@roneysco']}\n",
            "000.000.000-00: Roney Lira, 86999999999 (@roneysco)\n",
            "000.000.000-00: Roney Lira, 16999999999 (@roneysco)\n",
            "000.000.000-00: Roney Lira, 85999999999 (@roneysco)\n",
            "111.111.111-11: Roney Santos, 119999999999 (@roney2)\n",
            "111.111.111-11: Roney Santos, 929999999999 (@roney2)\n",
            "111.111.111-11: Roney Santos, 339999999999 (@roney2)\n",
            "222.222.222-22: Alguem Alguem, 359999999999 (@alguem)\n",
            "222.222.222-22: Alguem Alguem, 419999999999 (@alguem)\n"
          ],
          "name": "stdout"
        }
      ]
    }
  ]
}