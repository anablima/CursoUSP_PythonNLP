{
  "nbformat": 4,
  "nbformat_minor": 0,
  "metadata": {
    "colab": {
      "name": "Curso Python para PLN - Aula 1.ipynb",
      "provenance": [],
      "collapsed_sections": []
    },
    "kernelspec": {
      "name": "python3",
      "display_name": "Python 3",
      "language": "python"
    }
  },
  "cells": [
    {
      "cell_type": "markdown",
      "metadata": {
        "id": "hvj_oF-yXy1B"
      },
      "source": [
        "# Tipos de Dados"
      ]
    },
    {
      "cell_type": "code",
      "metadata": {
        "colab": {
          "base_uri": "https://localhost:8080/"
        },
        "id": "TDOkeM6LAH1e",
        "outputId": "06070b11-9513-4d20-db7a-dcb789084798"
      },
      "source": [
        "print(type('Hello World'))\n",
        "print(type(10))\n",
        "print(type(1.0))\n",
        "print(type(True))"
      ],
      "execution_count": 1,
      "outputs": [
        {
          "output_type": "stream",
          "name": "stdout",
          "text": [
            "<class 'str'>\n<class 'int'>\n<class 'float'>\n<class 'bool'>\n"
          ]
        }
      ]
    },
    {
      "cell_type": "code",
      "metadata": {
        "colab": {
          "base_uri": "https://localhost:8080/"
        },
        "id": "pvuUSeYUB5yD",
        "outputId": "48a04b88-5d77-4bb9-ec36-bb348ae309ba"
      },
      "source": [
        "a = 10\n",
        "b = 'PLN'\n",
        "c = 10 > 2\n",
        "d = 1.0\n",
        "\n",
        "print(type(a))\n",
        "print(type(b))\n",
        "print(type(c))\n",
        "print(type(d))"
      ],
      "execution_count": 2,
      "outputs": [
        {
          "output_type": "stream",
          "name": "stdout",
          "text": [
            "<class 'int'>\n<class 'str'>\n<class 'bool'>\n<class 'float'>\n"
          ]
        }
      ]
    },
    {
      "cell_type": "code",
      "metadata": {
        "colab": {
          "base_uri": "https://localhost:8080/"
        },
        "id": "o4BF1TbAFxpo",
        "outputId": "926fa8c4-e581-4bb2-885f-8bea134c65d6"
      },
      "source": [
        "print(a)\n",
        "a = 'Python'\n",
        "print(a)\n",
        "print(type(a))"
      ],
      "execution_count": 3,
      "outputs": [
        {
          "output_type": "stream",
          "name": "stdout",
          "text": [
            "10\nPython\n<class 'str'>\n"
          ]
        }
      ]
    },
    {
      "cell_type": "code",
      "metadata": {
        "colab": {
          "base_uri": "https://localhost:8080/"
        },
        "id": "Y7Q0di4mHmzh",
        "outputId": "14f4b677-1287-4cb7-8a90-bc4b7a23a990"
      },
      "source": [
        "numero = 1\n",
        "texto = '1'\n",
        "print(str(numero)+texto)"
      ],
      "execution_count": 4,
      "outputs": [
        {
          "output_type": "stream",
          "name": "stdout",
          "text": [
            "11\n"
          ]
        }
      ]
    },
    {
      "cell_type": "code",
      "metadata": {
        "colab": {
          "base_uri": "https://localhost:8080/"
        },
        "id": "R4QvPu4rIi6z",
        "outputId": "2be1bb19-3624-498a-897c-81f052c34d72"
      },
      "source": [
        "numero = 11\n",
        "if numero < 10:\n",
        "  print(\"numero é menor que 10\")\n",
        "  print(\"10 unidades\")\n",
        "  print('Testando o IF')\n",
        "else:\n",
        "  print(\"numero é maior que 10\")"
      ],
      "execution_count": 5,
      "outputs": [
        {
          "output_type": "stream",
          "name": "stdout",
          "text": [
            "numero é maior que 10\n"
          ]
        }
      ]
    },
    {
      "cell_type": "markdown",
      "metadata": {
        "id": "LZzJ0B5AKgjl"
      },
      "source": [
        "# Listas e Tuplas"
      ]
    },
    {
      "cell_type": "code",
      "metadata": {
        "colab": {
          "base_uri": "https://localhost:8080/"
        },
        "id": "9HUVPQI1Kj9u",
        "outputId": "0e4dc77b-14d2-42d4-968b-d75d61aee6a4"
      },
      "source": [
        "lista = [1,2,3]\n",
        "tupla = (1,2,3)\n",
        "print(type(lista))\n",
        "print(type(tupla))"
      ],
      "execution_count": 6,
      "outputs": [
        {
          "output_type": "stream",
          "name": "stdout",
          "text": [
            "<class 'list'>\n<class 'tuple'>\n"
          ]
        }
      ]
    },
    {
      "cell_type": "code",
      "metadata": {
        "colab": {
          "base_uri": "https://localhost:8080/"
        },
        "id": "QgsML5UUK1ZU",
        "outputId": "883fbafe-a11e-4b1c-c2f5-0c72a3dd02cb"
      },
      "source": [
        "print(lista)\n",
        "print(tupla)\n",
        "print(lista[0])\n",
        "print(tupla[0])"
      ],
      "execution_count": 7,
      "outputs": [
        {
          "output_type": "stream",
          "name": "stdout",
          "text": [
            "[1, 2, 3]\n(1, 2, 3)\n1\n1\n"
          ]
        }
      ]
    },
    {
      "cell_type": "code",
      "metadata": {
        "colab": {
          "base_uri": "https://localhost:8080/"
        },
        "id": "vrHYb9oSLjxd",
        "outputId": "afa02036-4254-4758-d8d2-ecdb51de75b2"
      },
      "source": [
        "lista[0] = 'PLN'\n",
        "print(lista)\n",
        "# tupla[0] = 4\n",
        "# print(tupla)"
      ],
      "execution_count": 8,
      "outputs": [
        {
          "output_type": "stream",
          "name": "stdout",
          "text": [
            "['PLN', 2, 3]\n"
          ]
        }
      ]
    },
    {
      "cell_type": "code",
      "metadata": {
        "colab": {
          "base_uri": "https://localhost:8080/"
        },
        "id": "k7-BIZrAMgbw",
        "outputId": "015906a3-e2b2-448c-8d86-244cac2b253e"
      },
      "source": [
        "print(lista)\n",
        "# print(list(range(1,9,2)))\n",
        "lista.append(5)\n",
        "print(lista)"
      ],
      "execution_count": 9,
      "outputs": [
        {
          "output_type": "stream",
          "name": "stdout",
          "text": [
            "['PLN', 2, 3]\n['PLN', 2, 3, 5]\n"
          ]
        }
      ]
    },
    {
      "cell_type": "code",
      "metadata": {
        "id": "zrZ_KPjINqGN"
      },
      "source": [
        "lista.insert(0,6)\n",
        "print(lista)"
      ],
      "execution_count": 10,
      "outputs": [
        {
          "output_type": "stream",
          "name": "stdout",
          "text": [
            "[6, 'PLN', 2, 3, 5]\n"
          ]
        }
      ]
    },
    {
      "cell_type": "code",
      "metadata": {
        "colab": {
          "base_uri": "https://localhost:8080/"
        },
        "id": "qgfN7-a4Nrj9",
        "outputId": "18d167f5-adb5-45f6-9a28-93a4563998b2"
      },
      "source": [
        "lista.reverse()\n",
        "print(lista)"
      ],
      "execution_count": 11,
      "outputs": [
        {
          "output_type": "stream",
          "name": "stdout",
          "text": [
            "[5, 3, 2, 'PLN', 6]\n"
          ]
        }
      ]
    },
    {
      "cell_type": "code",
      "metadata": {
        "colab": {
          "base_uri": "https://localhost:8080/"
        },
        "id": "SQu8xngRNwNE",
        "outputId": "5c09f926-cbac-4925-9342-549b35aa9d2f"
      },
      "source": [
        "lista[3] = 7\n",
        "lista.sort()\n",
        "print(lista)"
      ],
      "execution_count": 12,
      "outputs": [
        {
          "output_type": "stream",
          "name": "stdout",
          "text": [
            "[2, 3, 5, 6, 7]\n"
          ]
        }
      ]
    },
    {
      "cell_type": "code",
      "metadata": {
        "colab": {
          "base_uri": "https://localhost:8080/"
        },
        "id": "6I1isfseOCC2",
        "outputId": "5f4b7c3d-1c93-450a-eccb-a43ce544d17d"
      },
      "source": [
        "add = list(range(5))\n",
        "print(add)\n",
        "lista.extend(add)\n",
        "print(lista)"
      ],
      "execution_count": 13,
      "outputs": [
        {
          "output_type": "stream",
          "name": "stdout",
          "text": [
            "[0, 1, 2, 3, 4]\n[2, 3, 5, 6, 7, 0, 1, 2, 3, 4]\n"
          ]
        }
      ]
    },
    {
      "cell_type": "code",
      "metadata": {
        "colab": {
          "base_uri": "https://localhost:8080/"
        },
        "id": "cTNXu1ebOQkH",
        "outputId": "d791d02b-0011-4ac3-93fa-b5b4889e4fc9"
      },
      "source": [
        "lista.remove(2)\n",
        "print(lista)"
      ],
      "execution_count": 14,
      "outputs": [
        {
          "output_type": "stream",
          "name": "stdout",
          "text": [
            "[3, 5, 6, 7, 0, 1, 2, 3, 4]\n"
          ]
        }
      ]
    },
    {
      "cell_type": "code",
      "metadata": {
        "colab": {
          "base_uri": "https://localhost:8080/"
        },
        "id": "k99mHGKJOb0k",
        "outputId": "698c01ed-7c3a-472c-c59f-a621fcf6db25"
      },
      "source": [
        "print(lista.index(3))"
      ],
      "execution_count": 15,
      "outputs": [
        {
          "output_type": "stream",
          "name": "stdout",
          "text": [
            "0\n"
          ]
        }
      ]
    },
    {
      "cell_type": "code",
      "metadata": {
        "colab": {
          "base_uri": "https://localhost:8080/"
        },
        "id": "lsF4y1oMOnKb",
        "outputId": "74052359-f085-4652-d9b4-dfd4112d1b64"
      },
      "source": [
        "print(lista.count(3))"
      ],
      "execution_count": 16,
      "outputs": [
        {
          "output_type": "stream",
          "name": "stdout",
          "text": [
            "2\n"
          ]
        }
      ]
    },
    {
      "cell_type": "markdown",
      "metadata": {
        "id": "A8xU5bosO3m8"
      },
      "source": [
        "## Slicing"
      ]
    },
    {
      "cell_type": "code",
      "metadata": {
        "colab": {
          "base_uri": "https://localhost:8080/"
        },
        "id": "pS_mpPISO8D2",
        "outputId": "4b9182cc-257e-46df-b367-fa1b3e14c757"
      },
      "source": [
        "lista = list(range(10))\n",
        "print(lista)\n",
        "print(lista[0:5])\n",
        "print(lista[:4])\n",
        "print(lista[3:])\n",
        "print(lista[-3:])\n",
        "print(lista[-1])\n",
        "print(lista[:-3])\n",
        "print(lista[::-1])\n",
        "print(lista)"
      ],
      "execution_count": 17,
      "outputs": [
        {
          "output_type": "stream",
          "name": "stdout",
          "text": [
            "[0, 1, 2, 3, 4, 5, 6, 7, 8, 9]\n[0, 1, 2, 3, 4]\n[0, 1, 2, 3]\n[3, 4, 5, 6, 7, 8, 9]\n[7, 8, 9]\n9\n[0, 1, 2, 3, 4, 5, 6]\n[9, 8, 7, 6, 5, 4, 3, 2, 1, 0]\n[0, 1, 2, 3, 4, 5, 6, 7, 8, 9]\n"
          ]
        }
      ]
    }
  ]
}