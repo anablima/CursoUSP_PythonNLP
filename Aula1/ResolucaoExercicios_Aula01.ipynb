{
 "metadata": {
  "language_info": {
   "codemirror_mode": {
    "name": "ipython",
    "version": 3
   },
   "file_extension": ".py",
   "mimetype": "text/x-python",
   "name": "python",
   "nbconvert_exporter": "python",
   "pygments_lexer": "ipython3",
   "version": "3.8.5"
  },
  "orig_nbformat": 2,
  "kernelspec": {
   "name": "python385jvsc74a57bd0807438ed78c0cfc593610aaae78a6436fdbdebb4e971e1640d7b89129e1c3c70",
   "display_name": "Python 3.8.5 64-bit ('MeusProjetos')"
  }
 },
 "nbformat": 4,
 "nbformat_minor": 2,
 "cells": [
  {
   "source": [
    "# Resolução dos Exercícios - Lista I"
   ],
   "cell_type": "markdown",
   "metadata": {}
  },
  {
   "source": [
    "### 1. Crie três variáveis e atribua os valores a seguir: a=1, b=5.9 e c=‘teste’. A partir disso, retorne o tipo de cada uma das variáveis."
   ],
   "cell_type": "markdown",
   "metadata": {}
  },
  {
   "cell_type": "code",
   "execution_count": 134,
   "metadata": {},
   "outputs": [
    {
     "output_type": "stream",
     "name": "stdout",
     "text": [
      "Tipos das variáveis:\n>> Variável 'a' é do tipo <class 'int'>.\n>> Variável 'b' é do tipo <class 'int'>.\n>> Variável 'c' é do tipo <class 'str'>\n"
     ]
    }
   ],
   "source": [
    "# Criando as variáveis\n",
    "a=1\n",
    "b=5\n",
    "c='teste'\n",
    "\n",
    "# Retornando o tipo de cada variável\n",
    "print(\"Tipos das variáveis:\\n>> Variável 'a' é do tipo {typea}.\"\n",
    "                            \"\\n>> Variável 'b' é do tipo {typeb}.\"\n",
    "                            \"\\n>> Variável 'c' é do tipo {typec}\".format(typea=type(a), \n",
    "                                                                         typeb=type(b), \n",
    "                                                                         typec=type(c)))"
   ]
  },
  {
   "source": [
    "### 2. Troque o valor da variável a por ‘1’ e verifique se o tipo da variável mudou."
   ],
   "cell_type": "markdown",
   "metadata": {}
  },
  {
   "cell_type": "code",
   "execution_count": 135,
   "metadata": {},
   "outputs": [
    {
     "output_type": "stream",
     "name": "stdout",
     "text": [
      "O tipo da variável 'a' mudou para  <class 'str'>\n"
     ]
    }
   ],
   "source": [
    "# Alterando a variável\n",
    "a='1'\n",
    "\n",
    "# Retornando o novo tipo da variável\n",
    "print(\"O tipo da variável 'a' mudou para \", type(a))"
   ]
  },
  {
   "source": [
    "### 3. Faça a soma da variável b com a variável c. Interprete a saída, tanto em caso de execução correta quanto em caso de execução com erro."
   ],
   "cell_type": "markdown",
   "metadata": {}
  },
  {
   "cell_type": "code",
   "execution_count": 136,
   "metadata": {},
   "outputs": [
    {
     "output_type": "error",
     "ename": "TypeError",
     "evalue": "unsupported operand type(s) for +: 'int' and 'str'",
     "traceback": [
      "\u001b[0;31m---------------------------------------------------------------------------\u001b[0m",
      "\u001b[0;31mTypeError\u001b[0m                                 Traceback (most recent call last)",
      "\u001b[0;32m<ipython-input-136-6bcaf79ee691>\u001b[0m in \u001b[0;36m<module>\u001b[0;34m\u001b[0m\n\u001b[0;32m----> 1\u001b[0;31m \u001b[0mprint\u001b[0m\u001b[0;34m(\u001b[0m\u001b[0mb\u001b[0m\u001b[0;34m+\u001b[0m\u001b[0mc\u001b[0m\u001b[0;34m)\u001b[0m\u001b[0;34m\u001b[0m\u001b[0;34m\u001b[0m\u001b[0m\n\u001b[0m\u001b[1;32m      2\u001b[0m \u001b[0;34m\u001b[0m\u001b[0m\n\u001b[1;32m      3\u001b[0m \u001b[0;31m# Não podemos realizar operações aritméticas entre variáveis com tipos diferentes.\u001b[0m\u001b[0;34m\u001b[0m\u001b[0;34m\u001b[0m\u001b[0;34m\u001b[0m\u001b[0m\n\u001b[1;32m      4\u001b[0m \u001b[0;31m# Para isso ambas as variáveis precisam ser do mesmo tipo ou retorna erro.\u001b[0m\u001b[0;34m\u001b[0m\u001b[0;34m\u001b[0m\u001b[0;34m\u001b[0m\u001b[0m\n",
      "\u001b[0;31mTypeError\u001b[0m: unsupported operand type(s) for +: 'int' and 'str'"
     ]
    }
   ],
   "source": [
    "print(b+c)\n",
    "\n",
    "# Não podemos realizar operações aritméticas entre variáveis com tipos diferentes.\n",
    "# Para isso ambas as variáveis precisam ser do mesmo tipo ou retorna erro."
   ]
  },
  {
   "source": [
    "### 4. Crie uma lista com números de 0 a 9 (em qualquer ordem) e faça:\n",
    "* a) Adicione o número 6\n",
    "* b) Insira o número 7 na 3ª posição da lista\n",
    "* c) Remova o elemento 3 da lista\n",
    "* d) Adicione o número 4\n",
    "* e) Verifique o número de ocorrências do número 4 na lista"
   ],
   "cell_type": "markdown",
   "metadata": {}
  },
  {
   "cell_type": "code",
   "execution_count": 15,
   "metadata": {},
   "outputs": [
    {
     "output_type": "execute_result",
     "data": {
      "text/plain": [
       "[0, 1, 2, 3, 4, 5, 6, 7, 8, 9]"
      ]
     },
     "metadata": {},
     "execution_count": 15
    }
   ],
   "source": [
    "# Criando a lista\n",
    "l1 = [0, 1, 2, 3, 4, 5, 6, 7, 8, 9]\n",
    "l1"
   ]
  },
  {
   "cell_type": "code",
   "execution_count": 16,
   "metadata": {},
   "outputs": [
    {
     "output_type": "execute_result",
     "data": {
      "text/plain": [
       "[0, 1, 2, 3, 4, 5, 6, 7, 8, 9, 6]"
      ]
     },
     "metadata": {},
     "execution_count": 16
    }
   ],
   "source": [
    "# a) Adicione o número 6\n",
    "l1.append(6)\n",
    "l1"
   ]
  },
  {
   "cell_type": "code",
   "execution_count": 17,
   "metadata": {},
   "outputs": [
    {
     "output_type": "execute_result",
     "data": {
      "text/plain": [
       "[0, 1, 7, 2, 3, 4, 5, 6, 7, 8, 9, 6]"
      ]
     },
     "metadata": {},
     "execution_count": 17
    }
   ],
   "source": [
    "# b) Insira o número 7 na 3ª posição da lista\n",
    "l1.insert(2,7)\n",
    "l1"
   ]
  },
  {
   "cell_type": "code",
   "execution_count": 18,
   "metadata": {},
   "outputs": [
    {
     "output_type": "execute_result",
     "data": {
      "text/plain": [
       "[0, 1, 7, 2, 4, 5, 6, 7, 8, 9, 6]"
      ]
     },
     "metadata": {},
     "execution_count": 18
    }
   ],
   "source": [
    "# c) Remova o elemento 3 da lista\n",
    "l1.remove(3)\n",
    "l1"
   ]
  },
  {
   "cell_type": "code",
   "execution_count": 19,
   "metadata": {},
   "outputs": [
    {
     "output_type": "execute_result",
     "data": {
      "text/plain": [
       "[0, 1, 7, 2, 4, 5, 6, 7, 8, 9, 6, 4]"
      ]
     },
     "metadata": {},
     "execution_count": 19
    }
   ],
   "source": [
    "# d) Adicione o número 4\n",
    "l1.append(4)\n",
    "l1"
   ]
  },
  {
   "cell_type": "code",
   "execution_count": 21,
   "metadata": {},
   "outputs": [
    {
     "output_type": "stream",
     "name": "stdout",
     "text": [
      "2\n"
     ]
    }
   ],
   "source": [
    "# e) Verifique o número de ocorrências do número 4 na lista\n",
    "print(l1.count(4))"
   ]
  },
  {
   "source": [
    "### 5. Ainda com a lista criada na questão anterior, faça:\n",
    "* a) Retorne os primeiros 3 elementos da lista\n",
    "* b) Retorne os elementos que estão da 3ª posição até a 7ª posição da lista\n",
    "* c) Retorne os elementos da lista de 3 em 3 elementos\n",
    "* d) Retorne os 3 últimos elementos da lista\n",
    "* e) Retorne todos os elementos menos os 4 últimos da lista"
   ],
   "cell_type": "markdown",
   "metadata": {}
  },
  {
   "cell_type": "code",
   "execution_count": 84,
   "metadata": {},
   "outputs": [
    {
     "output_type": "stream",
     "name": "stdout",
     "text": [
      "Lista: [0, 1, 7, 2, 4, 5, 6, 7, 8, 9, 6, 4]\n\n3 primeiros elementos da lista: [0, 1, 7]\n"
     ]
    }
   ],
   "source": [
    "# a) Retorne os primeiros 3 elementos da lista\n",
    "print('Lista:', l1)\n",
    "print('\\n3 primeiros elementos da lista:', l1[:3])"
   ]
  },
  {
   "cell_type": "code",
   "execution_count": 83,
   "metadata": {},
   "outputs": [
    {
     "output_type": "stream",
     "name": "stdout",
     "text": [
      "Lista: [0, 1, 7, 2, 4, 5, 6, 7, 8, 9, 6, 4]\n\nElementos da 3ª a 7ª posição da lista: [7, 2, 4, 5, 6]\n"
     ]
    }
   ],
   "source": [
    "# b) Retorne os elementos que estão da 3ª posição até a 7ª posição da lista\n",
    "print('Lista:', l1)\n",
    "print('\\nElementos da 3ª a 7ª posição da lista:', l1[2:7])"
   ]
  },
  {
   "cell_type": "code",
   "execution_count": 77,
   "metadata": {},
   "outputs": [
    {
     "output_type": "stream",
     "name": "stdout",
     "text": [
      "Posições de 1 a 3:  [0, 1, 7]\nPosições de 4 a 6:  [2, 4, 5]\nPosições de 7 a 9:  [6, 7, 8]\nPosições de 10 a 12:  [9, 6, 4]\n"
     ]
    }
   ],
   "source": [
    "# c) Retorne os elementos da lista de 3 em 3 elementos\n",
    "print('Posições de 1 a 3: ', l1[:3])\n",
    "print('Posições de 4 a 6: ', l1[3:6])\n",
    "print('Posições de 7 a 9: ', l1[6:9])\n",
    "print('Posições de 10 a 12: ', l1[9:12])"
   ]
  },
  {
   "cell_type": "code",
   "execution_count": 82,
   "metadata": {},
   "outputs": [
    {
     "output_type": "stream",
     "name": "stdout",
     "text": [
      "Lista: [0, 1, 7, 2, 4, 5, 6, 7, 8, 9, 6, 4]\n\n3 últimos elementos da lista: [9, 6, 4]\n"
     ]
    }
   ],
   "source": [
    "# d) Retorne os 3 últimos elementos da lista\n",
    "print('Lista:', l1)\n",
    "print('\\n3 últimos elementos da lista:', l1[-3:])"
   ]
  },
  {
   "cell_type": "code",
   "execution_count": 85,
   "metadata": {},
   "outputs": [
    {
     "output_type": "stream",
     "name": "stdout",
     "text": [
      "Lista: [0, 1, 7, 2, 4, 5, 6, 7, 8, 9, 6, 4]\n\nTodos os elementos menos os 4 últimos da lista: [0, 1, 7, 2, 4, 5, 6, 7]\n"
     ]
    }
   ],
   "source": [
    "# e) Retorne todos os elementos menos os 4 últimos da lista\n",
    "print('Lista:', l1)\n",
    "print('\\nTodos os elementos menos os 4 últimos da lista:', l1[:-4])"
   ]
  },
  {
   "source": [
    "### 6. Com a lista das questões anteriores, retorne o 6º elemento da lista."
   ],
   "cell_type": "markdown",
   "metadata": {}
  },
  {
   "cell_type": "code",
   "execution_count": 137,
   "metadata": {},
   "outputs": [
    {
     "output_type": "stream",
     "name": "stdout",
     "text": [
      "Lista: [0, 1, 2, 4, 4, 5, 6, 7, 9, 12]\n\n6ª posição da lista: 7\n"
     ]
    }
   ],
   "source": [
    "print('Lista:', l1)\n",
    "print('\\n6ª posição da lista:', l1[6])"
   ]
  },
  {
   "source": [
    "### 7. Altere o valor do 7º elemento da lista para o valor 12."
   ],
   "cell_type": "markdown",
   "metadata": {}
  },
  {
   "cell_type": "code",
   "execution_count": 115,
   "metadata": {},
   "outputs": [
    {
     "output_type": "stream",
     "name": "stdout",
     "text": [
      "Lista: [0, 1, 7, 2, 4, 5, 6, 9, 6, 4]\n"
     ]
    }
   ],
   "source": [
    "print('Lista:', l1)"
   ]
  },
  {
   "cell_type": "code",
   "execution_count": 116,
   "metadata": {},
   "outputs": [
    {
     "output_type": "stream",
     "name": "stdout",
     "text": [
      "\nLista com a alteração: [0, 1, 7, 2, 4, 5, 12, 9, 6, 4]\n"
     ]
    }
   ],
   "source": [
    "l1[6] = 12\n",
    "print('\\nLista com a alteração:', l1)"
   ]
  },
  {
   "source": [
    "### 8. Inverta a ordem dos elementos na lista."
   ],
   "cell_type": "markdown",
   "metadata": {}
  },
  {
   "cell_type": "code",
   "execution_count": 121,
   "metadata": {},
   "outputs": [
    {
     "output_type": "stream",
     "name": "stdout",
     "text": [
      "Lista: [0, 1, 2, 4, 4, 5, 6, 7, 9, 12]\n"
     ]
    }
   ],
   "source": [
    "print('Lista:', l1)"
   ]
  },
  {
   "cell_type": "code",
   "execution_count": 122,
   "metadata": {},
   "outputs": [
    {
     "output_type": "stream",
     "name": "stdout",
     "text": [
      "\nLista invertida: [12, 9, 7, 6, 5, 4, 4, 2, 1, 0]\n"
     ]
    }
   ],
   "source": [
    "l1.reverse()\n",
    "print('\\nLista invertida:', l1)"
   ]
  },
  {
   "source": [
    "### 9. Ordene a lista"
   ],
   "cell_type": "markdown",
   "metadata": {}
  },
  {
   "cell_type": "code",
   "execution_count": 123,
   "metadata": {},
   "outputs": [
    {
     "output_type": "stream",
     "name": "stdout",
     "text": [
      "Lista: [12, 9, 7, 6, 5, 4, 4, 2, 1, 0]\n"
     ]
    }
   ],
   "source": [
    "print('Lista:', l1)"
   ]
  },
  {
   "cell_type": "code",
   "execution_count": 124,
   "metadata": {},
   "outputs": [
    {
     "output_type": "stream",
     "name": "stdout",
     "text": [
      "\nLista invertida: [0, 1, 2, 4, 4, 5, 6, 7, 9, 12]\n"
     ]
    }
   ],
   "source": [
    "l1.sort()\n",
    "print('\\nLista invertida:', l1)"
   ]
  },
  {
   "source": [
    "### 10. Crie uma tupla com números de 0 a 9 (em qualquer ordem) e tente:\n",
    "* a) Alterar o valor do 3º elemento da tupla para o valor 10\n",
    "* b) Verificar o índice (posição) do valor 5 na tupla"
   ],
   "cell_type": "markdown",
   "metadata": {}
  },
  {
   "cell_type": "code",
   "execution_count": 127,
   "metadata": {},
   "outputs": [
    {
     "output_type": "execute_result",
     "data": {
      "text/plain": [
       "(0, 1, 2, 3, 4, 5, 6, 7, 8, 9)"
      ]
     },
     "metadata": {},
     "execution_count": 127
    }
   ],
   "source": [
    "# Criando a tupla\n",
    "t1 = (0, 1, 2, 3, 4, 5, 6, 7, 8, 9)\n",
    "t1"
   ]
  },
  {
   "cell_type": "code",
   "execution_count": 128,
   "metadata": {},
   "outputs": [
    {
     "output_type": "error",
     "ename": "TypeError",
     "evalue": "'tuple' object does not support item assignment",
     "traceback": [
      "\u001b[0;31m---------------------------------------------------------------------------\u001b[0m",
      "\u001b[0;31mTypeError\u001b[0m                                 Traceback (most recent call last)",
      "\u001b[0;32m<ipython-input-128-cb818d0ececc>\u001b[0m in \u001b[0;36m<module>\u001b[0;34m\u001b[0m\n\u001b[1;32m      1\u001b[0m \u001b[0;31m# a) Alterar o valor do 3º elemento da tupla para o valor 10\u001b[0m\u001b[0;34m\u001b[0m\u001b[0;34m\u001b[0m\u001b[0;34m\u001b[0m\u001b[0m\n\u001b[0;32m----> 2\u001b[0;31m \u001b[0mt1\u001b[0m\u001b[0;34m[\u001b[0m\u001b[0;36m3\u001b[0m\u001b[0;34m]\u001b[0m \u001b[0;34m=\u001b[0m \u001b[0;36m10\u001b[0m\u001b[0;34m\u001b[0m\u001b[0;34m\u001b[0m\u001b[0m\n\u001b[0m\u001b[1;32m      3\u001b[0m \u001b[0mt1\u001b[0m\u001b[0;34m\u001b[0m\u001b[0;34m\u001b[0m\u001b[0m\n",
      "\u001b[0;31mTypeError\u001b[0m: 'tuple' object does not support item assignment"
     ]
    }
   ],
   "source": [
    "# a) Alterar o valor do 3º elemento da tupla para o valor 10\n",
    "t1[3] = 10\n",
    "t1\n",
    "\n",
    "# Tuplas não são alteráveis, somente as listas são."
   ]
  },
  {
   "cell_type": "code",
   "execution_count": 133,
   "metadata": {},
   "outputs": [
    {
     "output_type": "stream",
     "name": "stdout",
     "text": [
      "Tupla:  (0, 1, 2, 3, 4, 5, 6, 7, 8, 9)\n\nIndex do número 5 é: 5\n"
     ]
    }
   ],
   "source": [
    "# b) Verificar o índice (posição) do valor 5 na tupla\n",
    "print('Tupla: ', t1)\n",
    "print('\\nIndex do número 5 é:', t1.index(5))"
   ]
  },
  {
   "cell_type": "code",
   "execution_count": null,
   "metadata": {},
   "outputs": [],
   "source": []
  }
 ]
}