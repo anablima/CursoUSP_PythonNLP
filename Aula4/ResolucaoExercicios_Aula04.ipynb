{
 "cells": [
  {
   "cell_type": "markdown",
   "metadata": {
    "id": "AlnFkZNoLDCS"
   },
   "source": [
    "# Resolução dos Exercícios - Lista IV"
   ]
  },
  {
   "cell_type": "markdown",
   "metadata": {
    "id": "HylSldezLDCb"
   },
   "source": [
    "### 1. Crie um dicionário com 5 entradas e suas respectivas chaves e valores. Faça:\n",
    "\n",
    "* a) Imprima todas as chaves do dicionário.\n",
    "\n",
    "* b) Imprima todas os valores do dicionário.\n",
    "\n",
    "* c) Imprima todas os itens do dicionário.\n",
    "\n",
    "* d) Imprima o 2º item do dicicionário.\n",
    "\n",
    "* e) Imprima o dicionário completo.\n",
    "\n",
    "* f) Percorra o dicionário, imprimindo para cada entrada o modelo \"(chave) tem como valor (valor)\"."
   ]
  },
  {
   "cell_type": "code",
   "execution_count": null,
   "metadata": {
    "id": "d7ltjMHqLfNT"
   },
   "outputs": [],
   "source": [
    "# a) Imprima todas as chaves do dicionário."
   ]
  },
  {
   "cell_type": "code",
   "execution_count": null,
   "metadata": {
    "id": "nSLFXUmkLfUl"
   },
   "outputs": [],
   "source": [
    "# b) Imprima todas os valores do dicionário."
   ]
  },
  {
   "cell_type": "code",
   "execution_count": null,
   "metadata": {
    "id": "_jh1zSBGLfbG"
   },
   "outputs": [],
   "source": [
    "# c) Imprima todas os itens do dicionário."
   ]
  },
  {
   "cell_type": "code",
   "execution_count": null,
   "metadata": {
    "id": "FDNAJo6OLfiH"
   },
   "outputs": [],
   "source": [
    "# d) Imprima o 2º item do dicicionário."
   ]
  },
  {
   "cell_type": "code",
   "execution_count": null,
   "metadata": {
    "id": "rpIIrK9NRVmO"
   },
   "outputs": [],
   "source": [
    "# e) Imprima o dicionário completo."
   ]
  },
  {
   "cell_type": "code",
   "execution_count": null,
   "metadata": {
    "id": "GFHCzWWjLfnm"
   },
   "outputs": [],
   "source": [
    "''' f) Percorra o dicionário, imprimindo para \n",
    "cada entrada o modelo \"(chave) tem como valor (valor)\". '''"
   ]
  },
  {
   "cell_type": "code",
   "execution_count": null,
   "metadata": {
    "id": "1F8YbEHuWyNA"
   },
   "outputs": [],
   "source": []
  },
  {
   "cell_type": "markdown",
   "metadata": {
    "id": "Ngyy3GZoLDCi"
   },
   "source": [
    "### 2. Crie um arquivo e:\n",
    "\n",
    "* a) Escreva nele os números de 1 a 10.\n",
    "\n",
    "* b) Depois de escrito, imprima na tela todos os números do arquivo.\n",
    "\n",
    "* c) Escreva no arquivo os números de 11 a 20, substituindo os números\n",
    "que estavam antes no arquivo.\n",
    "\n",
    "* d) Escreva no arquivo os números de 21 a 30, adicionando os números\n",
    "no final do arquivo (sem apagar o que já estavam lá).\n",
    "\n",
    "* e) Imprima na tela todos os números do arquivo novamente (de 11 a\n",
    "30).\n",
    "\n",
    "* f) Imprima na tela todos os números do arquivo novamente, mas agora\n",
    "linha por linha."
   ]
  },
  {
   "cell_type": "code",
   "execution_count": null,
   "metadata": {
    "id": "x5txaNjpLgX9"
   },
   "outputs": [],
   "source": [
    "# a) Escreva nele os números de 1 a 10."
   ]
  },
  {
   "cell_type": "code",
   "execution_count": null,
   "metadata": {
    "id": "clJJfVtdRce7"
   },
   "outputs": [],
   "source": [
    "# b) Depois de escrito, imprima na tela todos os números do arquivo."
   ]
  },
  {
   "cell_type": "code",
   "execution_count": null,
   "metadata": {
    "id": "Xn_hpqroLgcs"
   },
   "outputs": [],
   "source": [
    "''' c) Escreva no arquivo os números de 11 a 20, \n",
    "substituindo os números que estavam antes no arquivo. '''"
   ]
  },
  {
   "cell_type": "code",
   "execution_count": null,
   "metadata": {
    "id": "UoOclAA3Lgg2"
   },
   "outputs": [],
   "source": [
    "''' d) Escreva no arquivo os números de 21 a 30, \n",
    "adicionando os números no final do arquivo (sem apagar o que já estavam lá). '''"
   ]
  },
  {
   "cell_type": "code",
   "execution_count": null,
   "metadata": {
    "id": "1S-4Vk7-Lgk_"
   },
   "outputs": [],
   "source": [
    "# e) Imprima na tela todos os números do arquivo novamente (de 11 a 30)."
   ]
  },
  {
   "cell_type": "code",
   "execution_count": null,
   "metadata": {
    "id": "hJAIEt0iLgo5"
   },
   "outputs": [],
   "source": [
    "''' f) Imprima na tela todos os números do arquivo \n",
    "novamente, mas agora linha por linha. '''"
   ]
  },
  {
   "cell_type": "markdown",
   "metadata": {
    "id": "W8PapFUgLDCk"
   },
   "source": [
    "### 3. Crie uma variável com a string “ instituto de ciências matemáticas e de computação” e faça:\n",
    "\n",
    "* a) Concatene (adicione) uma outra string chamada “usp”.\n",
    "\n",
    "* b) Concatene (adicione) uma outra informação: 2021.\n",
    "\n",
    "* c) Verifique o tamanho da nova string (com as informações adicionadas\n",
    "das questões a e b), com referência a caracteres e espaços.\n",
    "\n",
    "* d) Transforme a string inteiramente em maiúsculo.\n",
    "\n",
    "* e) Transforme a string inteiramente em minúsculo.\n",
    "\n",
    "* f) Retire o espaço que está no início da string e imprima a string.\n",
    "\n",
    "* g) Substitua todas as letras ‘a’ por ‘x’.\n",
    "\n",
    "* h) Separe a string em palavras únicas.\n",
    "\n",
    "* i) Verifique quantas palavras existem na string.\n",
    "\n",
    "* j) Separe a string por meio da palavra “de”.\n",
    "\n",
    "* k) Verifique agora quantas palavras/frases foram formadas quando\n",
    "houve a separação pela palavra “de”.\n",
    "\n",
    "* l) Junte as palavras que foram separadas (pode usar a separação\n",
    "resultante da questão h ou j).\n",
    "\n",
    "* m) Junte as palavras que foram separadas, mas agora separadas por uma\n",
    "barra invertida, não por espaços (pode usar a separação resultante da\n",
    "questão h ou j)."
   ]
  },
  {
   "cell_type": "code",
   "execution_count": null,
   "metadata": {
    "id": "gtFgKoSVLhU2"
   },
   "outputs": [],
   "source": [
    "# a) Concatene (adicione) uma outra string chamada “usp”."
   ]
  },
  {
   "cell_type": "code",
   "execution_count": null,
   "metadata": {
    "id": "STmlZNSpRpPe"
   },
   "outputs": [],
   "source": [
    "# b) Concatene (adicione) uma outra informação: 2021."
   ]
  },
  {
   "cell_type": "code",
   "execution_count": null,
   "metadata": {
    "id": "Y3B4z4MjRpR2"
   },
   "outputs": [],
   "source": [
    "''' c) Verifique o tamanho da nova string (com as informações \n",
    "adicionadas das questões a e b), com referência a caracteres e espaços. '''"
   ]
  },
  {
   "cell_type": "code",
   "execution_count": null,
   "metadata": {
    "id": "12IHzepZRpUs"
   },
   "outputs": [],
   "source": [
    "# d) Transforme a string inteiramente em maiúsculo."
   ]
  },
  {
   "cell_type": "code",
   "execution_count": null,
   "metadata": {
    "id": "eMFSTMNeLhX-"
   },
   "outputs": [],
   "source": [
    "# e) Transforme a string inteiramente em minúsculo."
   ]
  },
  {
   "cell_type": "code",
   "execution_count": null,
   "metadata": {
    "id": "VH8JRq-tLhbo"
   },
   "outputs": [],
   "source": [
    "# f) Retire o espaço que está no início da string e imprima a string."
   ]
  },
  {
   "cell_type": "code",
   "execution_count": null,
   "metadata": {
    "id": "3m0RaTmmLheq"
   },
   "outputs": [],
   "source": [
    "# g) Substitua todas as letras ‘a’ por ‘x’."
   ]
  },
  {
   "cell_type": "code",
   "execution_count": null,
   "metadata": {
    "id": "4JDp5r1mLhi6"
   },
   "outputs": [],
   "source": [
    "# h) Separe a string em palavras únicas."
   ]
  },
  {
   "cell_type": "code",
   "execution_count": null,
   "metadata": {
    "id": "hGoIDCsMR2ef"
   },
   "outputs": [],
   "source": [
    "# i) Verifique quantas palavras existem na string."
   ]
  },
  {
   "cell_type": "code",
   "execution_count": null,
   "metadata": {
    "id": "HPAT_kOfR2gl"
   },
   "outputs": [],
   "source": [
    "# j) Separe a string por meio da palavra “de”."
   ]
  },
  {
   "cell_type": "code",
   "execution_count": null,
   "metadata": {
    "id": "icCmqTZPR7aT"
   },
   "outputs": [],
   "source": [
    "''' k) Verifique agora quantas palavras/frases foram formadas \n",
    "quando houve a separação pela palavra “de”. '''"
   ]
  },
  {
   "cell_type": "code",
   "execution_count": null,
   "metadata": {
    "id": "RH_2yTBlR7dW"
   },
   "outputs": [],
   "source": [
    "''' l) Junte as palavras que foram separadas (pode usar a \n",
    "separação resultante da questão h ou j). '''"
   ]
  },
  {
   "cell_type": "code",
   "execution_count": null,
   "metadata": {
    "id": "ppR5cG4uR7fW"
   },
   "outputs": [],
   "source": [
    "''' m) Junte as palavras que foram separadas, mas agora separadas \n",
    "por uma barra invertida, não por espaços (pode usar a separação \n",
    "resultante da questão h ou j). '''\n"
   ]
  },
  {
   "cell_type": "markdown",
   "metadata": {
    "id": "9tZm8ZKMLDCl"
   },
   "source": [
    "### 4. Crie uma lista com números de 0 a 9 (em qualquer ordem) e faça:\n",
    "\n",
    "* a) Tokenize o corpus inteiro (palavras, números e pontuações).\n",
    "\n",
    "* b) Verifique a quantidade de tokens do corpus.\n",
    "\n",
    "* c) Tokenize o corpus apenas por suas palavras.\n",
    "\n",
    "* d) Verifique a quantidade de palavras do corpus.\n",
    "\n",
    "* e) Verifique a frequência de palavras no corpus.\n",
    "\n",
    "* f) Verifique quais são as 5, 10 e 15 palavras mais frequentes do corpus.\n",
    "\n",
    "* g) Extraia as stopwords do NLTK (não do corpus ainda).\n",
    "\n",
    "* h) Verifique a frequência dos tokens sem stopwords do corpus.\n",
    "\n",
    "* i) Extraia todos os bigramas do corpus.\n",
    "\n",
    "* j) Extraia todos os trigramas do corpus.\n",
    "\n",
    "* k) Extraia todos os 4-gramas do corpus.\n",
    "\n",
    "* l) Retorne as entidades nomeadas do corpus, usando os bigramas e\n",
    "trigramas.\n",
    "\n",
    "* m) Escolha 3 palavras do seu corpus e faça o stemming delas.\n",
    "\n",
    "* n) Separe uma sentença do seu corpus e retorne todas as classes\n",
    "gramaticais das palavras da sentença. Analise se o etiquetador\n",
    "acertou todas as classes gramaticais.\n",
    "\n",
    "* o) Retorne as classes gramaticais de todas as palavras do seu corpus.\n",
    "\n",
    "* p) Retorne as entidades nomeadas do seu corpus, usando a técnica de\n",
    "chunking."
   ]
  },
  {
   "cell_type": "code",
   "execution_count": null,
   "metadata": {
    "id": "BKTPGMvuLX18"
   },
   "outputs": [],
   "source": [
    "# a) Tokenize o corpus inteiro (palavras, números e pontuações)."
   ]
  },
  {
   "cell_type": "code",
   "execution_count": null,
   "metadata": {
    "id": "dTeYYSCKTBkL"
   },
   "outputs": [],
   "source": [
    "# b) Verifique a quantidade de tokens do corpus."
   ]
  },
  {
   "cell_type": "code",
   "execution_count": null,
   "metadata": {
    "id": "t2YiFicsTBmS"
   },
   "outputs": [],
   "source": [
    "# c) Tokenize o corpus apenas por suas palavras."
   ]
  },
  {
   "cell_type": "code",
   "execution_count": null,
   "metadata": {
    "id": "YBlBAql8TBtw"
   },
   "outputs": [],
   "source": [
    "# d) Verifique a quantidade de palavras do corpus."
   ]
  },
  {
   "cell_type": "code",
   "execution_count": null,
   "metadata": {
    "id": "R-iQEazQTBwH"
   },
   "outputs": [],
   "source": [
    "# e) Verifique a frequência de palavras no corpus."
   ]
  },
  {
   "cell_type": "code",
   "execution_count": null,
   "metadata": {
    "id": "CPn4bpcOTKC7"
   },
   "outputs": [],
   "source": [
    "# f) Verifique quais são as 5, 10 e 15 palavras mais frequentes do corpus."
   ]
  },
  {
   "cell_type": "code",
   "execution_count": null,
   "metadata": {
    "id": "4Eo1LMefTKFg"
   },
   "outputs": [],
   "source": [
    "# g) Extraia as stopwords do NLTK (não do corpus ainda)."
   ]
  },
  {
   "cell_type": "code",
   "execution_count": null,
   "metadata": {
    "id": "F-PmISYbTKI-"
   },
   "outputs": [],
   "source": [
    "# h) Verifique a frequência dos tokens sem stopwords do corpus."
   ]
  },
  {
   "cell_type": "code",
   "execution_count": null,
   "metadata": {
    "id": "dnRjH7p4TKK1"
   },
   "outputs": [],
   "source": [
    "# i) Extraia todos os bigramas do corpus."
   ]
  },
  {
   "cell_type": "code",
   "execution_count": null,
   "metadata": {
    "id": "E4_hrfDWLX97"
   },
   "outputs": [],
   "source": [
    "# j) Extraia todos os trigramas do corpus."
   ]
  },
  {
   "cell_type": "code",
   "execution_count": null,
   "metadata": {
    "id": "dqxlis7jLYCp"
   },
   "outputs": [],
   "source": [
    "# k) Extraia todos os 4-gramas do corpus."
   ]
  },
  {
   "cell_type": "code",
   "execution_count": null,
   "metadata": {
    "id": "JFloc347LYH2"
   },
   "outputs": [],
   "source": [
    "# l) Retorne as entidades nomeadas do corpus, usando os bigramas e trigramas."
   ]
  },
  {
   "cell_type": "code",
   "execution_count": null,
   "metadata": {
    "id": "oW4Z0S_hLYMz"
   },
   "outputs": [],
   "source": [
    "# m) Escolha 3 palavras do seu corpus e faça o stemming delas."
   ]
  },
  {
   "cell_type": "code",
   "execution_count": null,
   "metadata": {
    "id": "FO3z2Yy3TgKT"
   },
   "outputs": [],
   "source": [
    "''' n) Separe uma sentença do seu corpus e retorne \n",
    "todas as classes gramaticais das palavras da sentença. \n",
    "Analise se o etiquetador acertou todas as classes gramaticais. '''"
   ]
  },
  {
   "cell_type": "code",
   "execution_count": null,
   "metadata": {
    "id": "HMXmkF-gTgRp"
   },
   "outputs": [],
   "source": [
    "# o) Retorne as classes gramaticais de todas as palavras do seu corpus."
   ]
  },
  {
   "cell_type": "code",
   "execution_count": null,
   "metadata": {
    "id": "HWrNpbuxTgXz"
   },
   "outputs": [],
   "source": [
    "# p) Retorne as entidades nomeadas do seu corpus, usando a técnica de chunking."
   ]
  },
  {
   "cell_type": "markdown",
   "metadata": {
    "id": "xnZOlRfPQ8Me"
   },
   "source": [
    "### Exercícios de fixação presentes nos slides da aula que se encontram no Drive do curso: \n",
    "\n",
    "* Parte I (slides 26 a 29).\n",
    "\n",
    "* Parte II (slide 33).\n",
    "\n",
    "\n",
    "\n",
    "\n"
   ]
  },
  {
   "cell_type": "markdown",
   "metadata": {
    "id": "UavMTEo8UDDP"
   },
   "source": [
    "#### Exercícios - Parte I"
   ]
  },
  {
   "cell_type": "markdown",
   "metadata": {
    "id": "TyxrSEtFUc8E"
   },
   "source": [
    "##### 1. Dado o arquivo qbdata.txt, retorne o rating de cada QB na forma “nome do QB teve valor XX.X’ e escreva em um arquivo novo."
   ]
  },
  {
   "cell_type": "code",
   "execution_count": null,
   "metadata": {
    "id": "TRf84ImHUcCY"
   },
   "outputs": [],
   "source": []
  },
  {
   "cell_type": "code",
   "execution_count": null,
   "metadata": {
    "id": "wA1rhy2tVIev"
   },
   "outputs": [],
   "source": []
  },
  {
   "cell_type": "code",
   "execution_count": null,
   "metadata": {
    "id": "QTFXwBqrUPQ_"
   },
   "outputs": [],
   "source": []
  },
  {
   "cell_type": "markdown",
   "metadata": {
    "id": "7dkUojFtUi36"
   },
   "source": [
    "##### 2. Pensando em uma agenda, construa um dicionário com informações do contato sendo: CPF, nome, telefone e user no Twitter. \n",
    "\n",
    "##### Ao final, imprima todos os contatos da seguinte forma: \n",
    "* CPF: nome, telefone (user)"
   ]
  },
  {
   "cell_type": "code",
   "execution_count": null,
   "metadata": {
    "id": "usRGPOqQVH1t"
   },
   "outputs": [],
   "source": []
  },
  {
   "cell_type": "code",
   "execution_count": null,
   "metadata": {
    "id": "ii-pKQ7JVH41"
   },
   "outputs": [],
   "source": []
  },
  {
   "cell_type": "code",
   "execution_count": null,
   "metadata": {
    "id": "yguFiaIiVH-M"
   },
   "outputs": [],
   "source": []
  },
  {
   "cell_type": "markdown",
   "metadata": {
    "id": "ZBBFwho2UDbM"
   },
   "source": [
    "#### Exercícios - Parte II"
   ]
  },
  {
   "cell_type": "markdown",
   "metadata": {
    "id": "d1PlUlzaVg9w"
   },
   "source": [
    "##### Faça uma análise descritiva completa do nosso corpus de teste, utilizando as funções do NLTK.\n",
    "\n",
    "> Exemplos de atributos:\n",
    "* Quantidade de tokens.\n",
    "* Quantidade de sentenças / média do tamanho das\n",
    "sentenças.\n",
    "* Quantidade de substantivos, adjetivos, advérbios...\n",
    "* Quantidade de palavras com o mesmo radical.\n",
    "* Quantidade de símbolos de pontuação.\n",
    "* Palavras mais frequentes do corpus.\n",
    "\n"
   ]
  },
  {
   "cell_type": "code",
   "execution_count": null,
   "metadata": {
    "id": "NGx_HCTcRFq_"
   },
   "outputs": [],
   "source": []
  }
 ],
 "metadata": {
  "colab": {
   "name": "ResolucaoExercicios_Aula02.ipynb",
   "provenance": []
  },
  "kernelspec": {
   "display_name": "Python 3",
   "language": "python",
   "name": "python3"
  },
  "language_info": {
   "codemirror_mode": {
    "name": "ipython",
    "version": 3
   },
   "file_extension": ".py",
   "mimetype": "text/x-python",
   "name": "python",
   "nbconvert_exporter": "python",
   "pygments_lexer": "ipython3",
   "version": "3.8.5"
  }
 },
 "nbformat": 4,
 "nbformat_minor": 1
}