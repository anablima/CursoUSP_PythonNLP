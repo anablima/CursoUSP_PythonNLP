{
 "cells": [
  {
   "cell_type": "markdown",
   "metadata": {
    "id": "D_H8yYWarhEs"
   },
   "source": [
    "# Dicionários"
   ]
  },
  {
   "cell_type": "code",
   "execution_count": 2,
   "metadata": {
    "colab": {
     "base_uri": "https://localhost:8080/"
    },
    "executionInfo": {
     "elapsed": 1048,
     "status": "ok",
     "timestamp": 1620841603156,
     "user": {
      "displayName": "Rogério Figueredo de Sousa",
      "photoUrl": "",
      "userId": "13533044094468801479"
     },
     "user_tz": 180
    },
    "id": "pqxeGiQdrjkR",
    "outputId": "d34a77cb-eb05-442d-e4f0-39b2401383a4"
   },
   "outputs": [
    {
     "data": {
      "text/plain": [
       "dict"
      ]
     },
     "execution_count": 2,
     "metadata": {
      "tags": []
     },
     "output_type": "execute_result"
    }
   ],
   "source": [
    "dic = {}\n",
    "Dic = {}\n",
    "type(dic)"
   ]
  },
  {
   "cell_type": "code",
   "execution_count": 6,
   "metadata": {
    "colab": {
     "base_uri": "https://localhost:8080/"
    },
    "executionInfo": {
     "elapsed": 1175,
     "status": "ok",
     "timestamp": 1620841842922,
     "user": {
      "displayName": "Rogério Figueredo de Sousa",
      "photoUrl": "",
      "userId": "13533044094468801479"
     },
     "user_tz": 180
    },
    "id": "-hEuIgk9rczO",
    "outputId": "771f6221-c482-4462-c6f1-8c752819f287"
   },
   "outputs": [
    {
     "name": "stdout",
     "output_type": "stream",
     "text": [
      "{'elemento1': 10, 'elemento2': 20, 'elemento3': 'aula', 10: 'numero', 1.3: 'ponto flutuante', True: 'booleano'}\n"
     ]
    }
   ],
   "source": [
    "dic['elemento1'] = 10\n",
    "dic['elemento2'] = 20\n",
    "dic['elemento3'] = 'aula'\n",
    "dic[10] = 'numero'\n",
    "dic[1.3] = 'ponto flutuante'\n",
    "dic[True] = 'booleano'\n",
    "print(dic)"
   ]
  },
  {
   "cell_type": "code",
   "execution_count": 9,
   "metadata": {
    "colab": {
     "base_uri": "https://localhost:8080/"
    },
    "executionInfo": {
     "elapsed": 1135,
     "status": "ok",
     "timestamp": 1620842052027,
     "user": {
      "displayName": "Rogério Figueredo de Sousa",
      "photoUrl": "",
      "userId": "13533044094468801479"
     },
     "user_tz": 180
    },
    "id": "MnMIc6NwtPzY",
    "outputId": "02d2e09e-01f9-4ef8-d03d-b76634056dc4"
   },
   "outputs": [
    {
     "name": "stdout",
     "output_type": "stream",
     "text": [
      "keys: dict_keys(['elemento1', 'elemento2', 'elemento3', 10, 1.3, True])\n",
      "values: dict_values([10, 20, 'aula', 'numero', 'ponto flutuante', 'booleano'])\n",
      "items: dict_items([('elemento1', 10), ('elemento2', 20), ('elemento3', 'aula'), (10, 'numero'), (1.3, 'ponto flutuante'), (True, 'booleano')])\n"
     ]
    }
   ],
   "source": [
    "print('keys: ' + str(dic.keys()))\n",
    "print('values: ' + str(dic.values()))\n",
    "print('items: ' + str(dic.items()))"
   ]
  },
  {
   "cell_type": "code",
   "execution_count": 11,
   "metadata": {
    "colab": {
     "base_uri": "https://localhost:8080/"
    },
    "executionInfo": {
     "elapsed": 1368,
     "status": "ok",
     "timestamp": 1620842314165,
     "user": {
      "displayName": "Rogério Figueredo de Sousa",
      "photoUrl": "",
      "userId": "13533044094468801479"
     },
     "user_tz": 180
    },
    "id": "w3GDmPiPt1RR",
    "outputId": "538c2e35-26e5-423f-ba19-302207abf7b0"
   },
   "outputs": [
    {
     "name": "stdout",
     "output_type": "stream",
     "text": [
      "chave: elemento1 Valor: 10\n",
      "chave: elemento2 Valor: 20\n",
      "chave: elemento3 Valor: aula\n",
      "chave: 10 Valor: numero\n",
      "chave: 1.3 Valor: ponto flutuante\n",
      "chave: True Valor: booleano\n"
     ]
    }
   ],
   "source": [
    "for k in dic.keys():\n",
    "  print('chave: ' + str(k) + ' Valor: ' + str(dic[k]))"
   ]
  },
  {
   "cell_type": "markdown",
   "metadata": {
    "id": "NlGcg77AwTrv"
   },
   "source": [
    "# Arquivos"
   ]
  },
  {
   "cell_type": "code",
   "execution_count": 16,
   "metadata": {
    "executionInfo": {
     "elapsed": 841,
     "status": "ok",
     "timestamp": 1620843293717,
     "user": {
      "displayName": "Rogério Figueredo de Sousa",
      "photoUrl": "",
      "userId": "13533044094468801479"
     },
     "user_tz": 180
    },
    "id": "sXlZyMyivGRn"
   },
   "outputs": [],
   "source": [
    "arquivo = open('aula.txt','w')\n",
    "arquivo.write('python\\n')\n",
    "arquivo.write('pln\\n')\n",
    "arquivo.write('dicionários\\n')\n",
    "arquivo.close()"
   ]
  },
  {
   "cell_type": "code",
   "execution_count": 17,
   "metadata": {
    "colab": {
     "base_uri": "https://localhost:8080/"
    },
    "executionInfo": {
     "elapsed": 1205,
     "status": "ok",
     "timestamp": 1620843297703,
     "user": {
      "displayName": "Rogério Figueredo de Sousa",
      "photoUrl": "",
      "userId": "13533044094468801479"
     },
     "user_tz": 180
    },
    "id": "cqMByeg6w4J_",
    "outputId": "ded94b82-b121-4047-b1a7-a9240abf15c9"
   },
   "outputs": [
    {
     "name": "stdout",
     "output_type": "stream",
     "text": [
      "python\n",
      "pln\n",
      "dicionários\n",
      "\n",
      "<class 'str'>\n"
     ]
    }
   ],
   "source": [
    "arquivo = open('aula.txt','r')\n",
    "arq_read = arquivo.read()\n",
    "print(arq_read)\n",
    "print(type(arq_read))\n",
    "#print(arquivo.readlines())"
   ]
  },
  {
   "cell_type": "code",
   "execution_count": 18,
   "metadata": {
    "colab": {
     "base_uri": "https://localhost:8080/"
    },
    "executionInfo": {
     "elapsed": 898,
     "status": "ok",
     "timestamp": 1620843307247,
     "user": {
      "displayName": "Rogério Figueredo de Sousa",
      "photoUrl": "",
      "userId": "13533044094468801479"
     },
     "user_tz": 180
    },
    "id": "NbQjYao8xShf",
    "outputId": "a35991ba-fdcb-4147-e984-c5fdaf8bfbc0"
   },
   "outputs": [
    {
     "name": "stdout",
     "output_type": "stream",
     "text": [
      "['python\\n', 'pln\\n', 'dicionários\\n']\n",
      "<class 'list'>\n"
     ]
    }
   ],
   "source": [
    "arquivo = open('aula.txt','r')\n",
    "arq_read_lines = arquivo.readlines()\n",
    "print(arq_read_lines)\n",
    "print(type(arq_read_lines))"
   ]
  },
  {
   "cell_type": "code",
   "execution_count": 25,
   "metadata": {
    "executionInfo": {
     "elapsed": 675,
     "status": "ok",
     "timestamp": 1620844298634,
     "user": {
      "displayName": "Rogério Figueredo de Sousa",
      "photoUrl": "",
      "userId": "13533044094468801479"
     },
     "user_tz": 180
    },
    "id": "-yy_Trswymzo"
   },
   "outputs": [],
   "source": [
    "arquivo = open('aula.txt','w')\n",
    "arquivo.write('linha '+str(1)+ '\\n')\n",
    "arquivo.write('linha2 \\n')\n",
    "arquivo.write('linha3 \\n')\n",
    "arquivo.close()"
   ]
  },
  {
   "cell_type": "code",
   "execution_count": 20,
   "metadata": {
    "executionInfo": {
     "elapsed": 912,
     "status": "ok",
     "timestamp": 1620843438551,
     "user": {
      "displayName": "Rogério Figueredo de Sousa",
      "photoUrl": "",
      "userId": "13533044094468801479"
     },
     "user_tz": 180
    },
    "id": "b0HlThyOy--d"
   },
   "outputs": [],
   "source": [
    "arquivo = open('aula.txt','a')\n",
    "arquivo.write('linha4 \\n')\n",
    "arquivo.write('linha5 \\n')\n",
    "arquivo.write('linha6 \\n')\n",
    "arquivo.close()"
   ]
  },
  {
   "cell_type": "code",
   "execution_count": 21,
   "metadata": {
    "colab": {
     "base_uri": "https://localhost:8080/"
    },
    "executionInfo": {
     "elapsed": 38147,
     "status": "ok",
     "timestamp": 1620843621393,
     "user": {
      "displayName": "Rogério Figueredo de Sousa",
      "photoUrl": "",
      "userId": "13533044094468801479"
     },
     "user_tz": 180
    },
    "id": "HjrLcp2OEFT2",
    "outputId": "5ee1ffc9-88a2-47dd-8f2a-47df19392e9f"
   },
   "outputs": [
    {
     "name": "stdout",
     "output_type": "stream",
     "text": [
      "Mounted at /content/drive\n"
     ]
    }
   ],
   "source": [
    "from google.colab import drive\n",
    "drive.mount('/content/drive')"
   ]
  },
  {
   "cell_type": "code",
   "execution_count": 22,
   "metadata": {
    "colab": {
     "base_uri": "https://localhost:8080/"
    },
    "executionInfo": {
     "elapsed": 1105,
     "status": "ok",
     "timestamp": 1620843725623,
     "user": {
      "displayName": "Rogério Figueredo de Sousa",
      "photoUrl": "",
      "userId": "13533044094468801479"
     },
     "user_tz": 180
    },
    "id": "IoI4Tg9HzcpV",
    "outputId": "2ef65bd0-d4d6-4b87-8b12-6b61536e69b9"
   },
   "outputs": [
    {
     "name": "stdout",
     "output_type": "stream",
     "text": [
      "Colt McCoy QB, CLE  135 222 1576    6   9   60.8%   74.5\n",
      "Josh Freeman QB, TB 291 474 3451    25  6   61.4%   95.9\n",
      "Michael Vick QB, PHI    233 372 3018    21  6   62.6%   100.2\n",
      "Matt Schaub QB, HOU 365 574 4370    24  12  63.6%   92.0\n",
      "Philip Rivers QB, SD    357 541 4710    30  13  66.0%   101.8\n",
      "Matt Hasselbeck QB, SEA 266 444 3001    12  17  59.9%   73.2\n",
      "Jimmy Clausen QB, CAR   157 299 1558    3   9   52.5%   58.4\n",
      "Joe Flacco QB, BAL  306 489 3622    25  10  62.6%   93.6\n",
      "Kyle Orton QB, DEN  293 498 3653    20  9   58.8%   87.5\n",
      "Jason Campbell QB, OAK  194 329 2387    13  8   59.0%   84.5\n",
      "Peyton Manning QB, IND  450 679 4700    33  17  66.3%   91.9\n",
      "Drew Brees QB, NO   448 658 4620    33  22  68.1%   90.9\n",
      "Matt Ryan QB, ATL   357 571 3705    28  9   62.5%   91.0\n",
      "Matt Cassel QB, KC  262 450 3116    27  7   58.2%   93.0\n",
      "Mark Sanchez QB, NYJ    278 507 3291    17  13  54.8%   75.3\n",
      "Brett Favre QB, MIN 217 358 2509    11  19  60.6%   69.9\n",
      "David Garrard QB, JAC   236 366 2734    23  15  64.5%   90.8\n",
      "Eli Manning QB, NYG 339 539 4002    31  25  62.9%   85.3\n",
      "Carson Palmer QB, CIN   362 586 3970    26  20  61.8%   82.4\n",
      "Alex Smith QB, SF   204 342 2370    14  10  59.6%   82.1\n",
      "Chad Henne QB, MIA  301 490 3301    15  19  61.4%   75.4\n",
      "Tony Romo QB, DAL   148 213 1605    11  7   69.5%   94.9\n",
      "Jay Cutler QB, CHI  261 432 3274    23  16  60.4%   86.3\n",
      "Jon Kitna QB, DAL   209 318 2365    16  12  65.7%   88.9\n",
      "Tom Brady QB, NE    324 492 3900    36  4   65.9%   111.0\n",
      "Ben Roethlisberger QB, PIT  240 389 3200    17  5   61.7%   97.0\n",
      "Kerry Collins QB, TEN   160 278 1823    14  8   57.6%   82.2\n",
      "Derek Anderson QB, ARI  169 327 2065    7   10  51.7%   65.9\n",
      "Ryan Fitzpatrick QB, BUF    255 441 3000    23  15  57.8%   81.8\n",
      "Donovan McNabb QB, WAS  275 472 3377    14  15  58.3%   77.1\n",
      "Kevin Kolb QB, PHI  115 189 1197    7   7   60.8%   76.1\n",
      "Aaron Rodgers QB, GB    312 475 3922    28  11  65.7%   101.2\n",
      "Sam Bradford QB, STL    354 590 3512    18  15  60.0%   76.5\n",
      "Shaun Hill QB, DET  257 416 2686    16  12  61.8%   81.3\n"
     ]
    }
   ],
   "source": [
    "arquivo = open('/content/drive/MyDrive/qbdata.txt')\n",
    "print(arquivo.read())"
   ]
  },
  {
   "cell_type": "code",
   "execution_count": 24,
   "metadata": {
    "colab": {
     "base_uri": "https://localhost:8080/"
    },
    "executionInfo": {
     "elapsed": 1069,
     "status": "ok",
     "timestamp": 1620843900691,
     "user": {
      "displayName": "Rogério Figueredo de Sousa",
      "photoUrl": "",
      "userId": "13533044094468801479"
     },
     "user_tz": 180
    },
    "id": "OUe5zjZG0hQX",
    "outputId": "67a09071-f4aa-431b-ab9b-7bbd913c40a1"
   },
   "outputs": [
    {
     "name": "stdout",
     "output_type": "stream",
     "text": [
      "Colt McCoy QB, CLE  135 222 1576    6   9   60.8%   74.5\n",
      "Josh Freeman QB, TB 291 474 3451    25  6   61.4%   95.9\n",
      "Michael Vick QB, PHI    233 372 3018    21  6   62.6%   100.2\n",
      "Matt Schaub QB, HOU 365 574 4370    24  12  63.6%   92.0\n",
      "Philip Rivers QB, SD    357 541 4710    30  13  66.0%   101.8\n",
      "Matt Hasselbeck QB, SEA 266 444 3001    12  17  59.9%   73.2\n",
      "Jimmy Clausen QB, CAR   157 299 1558    3   9   52.5%   58.4\n",
      "Joe Flacco QB, BAL  306 489 3622    25  10  62.6%   93.6\n",
      "Kyle Orton QB, DEN  293 498 3653    20  9   58.8%   87.5\n",
      "Jason Campbell QB, OAK  194 329 2387    13  8   59.0%   84.5\n",
      "Peyton Manning QB, IND  450 679 4700    33  17  66.3%   91.9\n",
      "Drew Brees QB, NO   448 658 4620    33  22  68.1%   90.9\n",
      "Matt Ryan QB, ATL   357 571 3705    28  9   62.5%   91.0\n",
      "Matt Cassel QB, KC  262 450 3116    27  7   58.2%   93.0\n",
      "Mark Sanchez QB, NYJ    278 507 3291    17  13  54.8%   75.3\n",
      "Brett Favre QB, MIN 217 358 2509    11  19  60.6%   69.9\n",
      "David Garrard QB, JAC   236 366 2734    23  15  64.5%   90.8\n",
      "Eli Manning QB, NYG 339 539 4002    31  25  62.9%   85.3\n",
      "Carson Palmer QB, CIN   362 586 3970    26  20  61.8%   82.4\n",
      "Alex Smith QB, SF   204 342 2370    14  10  59.6%   82.1\n",
      "Chad Henne QB, MIA  301 490 3301    15  19  61.4%   75.4\n",
      "Tony Romo QB, DAL   148 213 1605    11  7   69.5%   94.9\n",
      "Jay Cutler QB, CHI  261 432 3274    23  16  60.4%   86.3\n",
      "Jon Kitna QB, DAL   209 318 2365    16  12  65.7%   88.9\n",
      "Tom Brady QB, NE    324 492 3900    36  4   65.9%   111.0\n",
      "Ben Roethlisberger QB, PIT  240 389 3200    17  5   61.7%   97.0\n",
      "Kerry Collins QB, TEN   160 278 1823    14  8   57.6%   82.2\n",
      "Derek Anderson QB, ARI  169 327 2065    7   10  51.7%   65.9\n",
      "Ryan Fitzpatrick QB, BUF    255 441 3000    23  15  57.8%   81.8\n",
      "Donovan McNabb QB, WAS  275 472 3377    14  15  58.3%   77.1\n",
      "Kevin Kolb QB, PHI  115 189 1197    7   7   60.8%   76.1\n",
      "Aaron Rodgers QB, GB    312 475 3922    28  11  65.7%   101.2\n",
      "Sam Bradford QB, STL    354 590 3512    18  15  60.0%   76.5\n",
      "Shaun Hill QB, DET  257 416 2686    16  12  61.8%   81.3\n"
     ]
    }
   ],
   "source": [
    "with open('/content/drive/MyDrive/qbdata.txt','r') as arquivo:\n",
    "    print(arquivo.read())"
   ]
  },
  {
   "cell_type": "markdown",
   "metadata": {
    "id": "lnMK57M62txk"
   },
   "source": [
    "# Strings"
   ]
  },
  {
   "cell_type": "code",
   "execution_count": 39,
   "metadata": {
    "colab": {
     "base_uri": "https://localhost:8080/"
    },
    "executionInfo": {
     "elapsed": 664,
     "status": "ok",
     "timestamp": 1620844772142,
     "user": {
      "displayName": "Rogério Figueredo de Sousa",
      "photoUrl": "",
      "userId": "13533044094468801479"
     },
     "user_tz": 180
    },
    "id": "h-hPrtpz2u-2",
    "outputId": "308792b1-72f2-4976-8a24-c58887cd408d"
   },
   "outputs": [
    {
     "name": "stdout",
     "output_type": "stream",
     "text": [
      "   Python para PLN\n",
      "   Python para PLN Edição 2\n",
      "\n"
     ]
    }
   ],
   "source": [
    "s = '   Python'\n",
    "s = s + ' para PLN'\n",
    "# s[0] = 'p' -> proibido\n",
    "print(s)\n",
    "s = s + ' Edição ' + str(2) + '\\n'\n",
    "print(s)"
   ]
  },
  {
   "cell_type": "code",
   "execution_count": 43,
   "metadata": {
    "colab": {
     "base_uri": "https://localhost:8080/"
    },
    "executionInfo": {
     "elapsed": 1079,
     "status": "ok",
     "timestamp": 1620844942341,
     "user": {
      "displayName": "Rogério Figueredo de Sousa",
      "photoUrl": "",
      "userId": "13533044094468801479"
     },
     "user_tz": 180
    },
    "id": "GeaCxWh23x5l",
    "outputId": "ff86c13d-d05e-420e-baa6-f2c302b8fd3c"
   },
   "outputs": [
    {
     "name": "stdout",
     "output_type": "stream",
     "text": [
      "28\n",
      "Python para PLN Edição 2\n",
      "   python para pln edição 2\n",
      "\n",
      "   PYTHON PARA PLN EDIÇÃO 2\n",
      "\n",
      "   Python Para PLN Edição 2\n",
      "\n",
      "['Python', 'para', 'PLN', 'Edição', '2']\n",
      "Python-para-PLN-Edição-2\n"
     ]
    }
   ],
   "source": [
    "print(len(s))\n",
    "print(s.strip())\n",
    "print(s.lower())\n",
    "print(s.upper())\n",
    "print(s.replace('p','P'))\n",
    "separado = s.split()\n",
    "print(separado)\n",
    "print('-'.join(separado))"
   ]
  },
  {
   "cell_type": "code",
   "execution_count": 46,
   "metadata": {
    "colab": {
     "base_uri": "https://localhost:8080/"
    },
    "executionInfo": {
     "elapsed": 755,
     "status": "ok",
     "timestamp": 1620845066322,
     "user": {
      "displayName": "Rogério Figueredo de Sousa",
      "photoUrl": "",
      "userId": "13533044094468801479"
     },
     "user_tz": 180
    },
    "id": "P8L8sZjR5BO7",
    "outputId": "26a2bc19-e440-4b24-e54f-46d7692a1d60"
   },
   "outputs": [
    {
     "name": "stdout",
     "output_type": "stream",
     "text": [
      "Python-para-PLN-Edição-2\n",
      "['Python', 'para', 'PLN', 'Edição', '2']\n"
     ]
    }
   ],
   "source": [
    "especial = '-'.join(separado)\n",
    "print(especial)\n",
    "separar = especial.split('-')\n",
    "print(separar)"
   ]
  }
 ],
 "metadata": {
  "colab": {
   "authorship_tag": "ABX9TyP1SPIWprF0eRi9+fAbqI1D",
   "collapsed_sections": [],
   "name": "Estruturas Python.ipynb",
   "provenance": []
  },
  "kernelspec": {
   "display_name": "Python 3",
   "language": "python",
   "name": "python3"
  },
  "language_info": {
   "codemirror_mode": {
    "name": "ipython",
    "version": 3
   },
   "file_extension": ".py",
   "mimetype": "text/x-python",
   "name": "python",
   "nbconvert_exporter": "python",
   "pygments_lexer": "ipython3",
   "version": "3.8.8"
  },
  "widgets": {
   "application/vnd.jupyter.widget-state+json": {
    "state": {},
    "version_major": 2,
    "version_minor": 0
   }
  }
 },
 "nbformat": 4,
 "nbformat_minor": 4
}
