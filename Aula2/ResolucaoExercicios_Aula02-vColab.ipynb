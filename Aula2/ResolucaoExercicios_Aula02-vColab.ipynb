{
 "cells": [
  {
   "source": [
    "# Resolução dos Exercícios - Versão Colab + Drive"
   ],
   "cell_type": "markdown",
   "metadata": {}
  },
  {
   "cell_type": "code",
   "execution_count": 3,
   "metadata": {
    "colab": {
     "base_uri": "https://localhost:8080/"
    },
    "executionInfo": {
     "elapsed": 31800,
     "status": "ok",
     "timestamp": 1620936856330,
     "user": {
      "displayName": "Ana Beatriz Ferreira Lima",
      "photoUrl": "https://lh3.googleusercontent.com/a-/AOh14GggHt8_mbkDnXZff-k4M3yYcwgljM73TJaOFcf82g=s64",
      "userId": "04361221466185006768"
     },
     "user_tz": 180
    },
    "id": "lNieH38VWvlJ",
    "outputId": "8bc18343-c21e-4a22-d478-1e2ab8521b0a"
   },
   "outputs": [
    {
     "name": "stdout",
     "output_type": "stream",
     "text": [
      "Mounted at /content/drive\n"
     ]
    }
   ],
   "source": [
    "# Montando meu Drive no Colab\n",
    "from google.colab import drive\n",
    "drive.mount('/content/drive')"
   ]
  },
  {
   "cell_type": "code",
   "execution_count": 4,
   "metadata": {
    "executionInfo": {
     "elapsed": 549,
     "status": "ok",
     "timestamp": 1620937124260,
     "user": {
      "displayName": "Ana Beatriz Ferreira Lima",
      "photoUrl": "https://lh3.googleusercontent.com/a-/AOh14GggHt8_mbkDnXZff-k4M3yYcwgljM73TJaOFcf82g=s64",
      "userId": "04361221466185006768"
     },
     "user_tz": 180
    },
    "id": "7YVAkW0EX1_N"
   },
   "outputs": [],
   "source": [
    "# Importando do meu Drive os arquivos que serão utilizados\n",
    "qbdata = open('/content/drive/MyDrive/Colab Notebooks/NLP - USP/Aula2/textos/qbdata.txt')\n",
    "corpus_test = open('/content/drive/MyDrive/Colab Notebooks/NLP - USP/Aula2/textos/corpus_teste.txt')"
   ]
  },
  {
   "cell_type": "code",
   "execution_count": 6,
   "metadata": {
    "colab": {
     "base_uri": "https://localhost:8080/",
     "height": 126
    },
    "executionInfo": {
     "elapsed": 659,
     "status": "ok",
     "timestamp": 1620937151506,
     "user": {
      "displayName": "Ana Beatriz Ferreira Lima",
      "photoUrl": "https://lh3.googleusercontent.com/a-/AOh14GggHt8_mbkDnXZff-k4M3yYcwgljM73TJaOFcf82g=s64",
      "userId": "04361221466185006768"
     },
     "user_tz": 180
    },
    "id": "z12H8O5WYVfs",
    "outputId": "b5707bc4-bda6-49e6-85ab-04bbbec95846"
   },
   "outputs": [
    {
     "data": {
      "application/vnd.google.colaboratory.intrinsic+json": {
       "type": "string"
      },
      "text/plain": [
       "'Colt McCoy QB, CLE  135 222 1576    6   9   60.8%   74.5\\nJosh Freeman QB, TB 291 474 3451    25  6   61.4%   95.9\\nMichael Vick QB, PHI    233 372 3018    21  6   62.6%   100.2\\nMatt Schaub QB, HOU 365 574 4370    24  12  63.6%   92.0\\nPhilip Rivers QB, SD    357 541 4710    30  13  66.0%   101.8\\nMatt Hasselbeck QB, SEA 266 444 3001    12  17  59.9%   73.2\\nJimmy Clausen QB, CAR   157 299 1558    3   9   52.5%   58.4\\nJoe Flacco QB, BAL  306 489 3622    25  10  62.6%   93.6\\nKyle Orton QB, DEN  293 498 3653    20  9   58.8%   87.5\\nJason Campbell QB, OAK  194 329 2387    13  8   59.0%   84.5\\nPeyton Manning QB, IND  450 679 4700    33  17  66.3%   91.9\\nDrew Brees QB, NO   448 658 4620    33  22  68.1%   90.9\\nMatt Ryan QB, ATL   357 571 3705    28  9   62.5%   91.0\\nMatt Cassel QB, KC  262 450 3116    27  7   58.2%   93.0\\nMark Sanchez QB, NYJ    278 507 3291    17  13  54.8%   75.3\\nBrett Favre QB, MIN 217 358 2509    11  19  60.6%   69.9\\nDavid Garrard QB, JAC   236 366 2734    23  15  64.5%   90.8\\nEli Manning QB, NYG 339 539 4002    31  25  62.9%   85.3\\nCarson Palmer QB, CIN   362 586 3970    26  20  61.8%   82.4\\nAlex Smith QB, SF   204 342 2370    14  10  59.6%   82.1\\nChad Henne QB, MIA  301 490 3301    15  19  61.4%   75.4\\nTony Romo QB, DAL   148 213 1605    11  7   69.5%   94.9\\nJay Cutler QB, CHI  261 432 3274    23  16  60.4%   86.3\\nJon Kitna QB, DAL   209 318 2365    16  12  65.7%   88.9\\nTom Brady QB, NE    324 492 3900    36  4   65.9%   111.0\\nBen Roethlisberger QB, PIT  240 389 3200    17  5   61.7%   97.0\\nKerry Collins QB, TEN   160 278 1823    14  8   57.6%   82.2\\nDerek Anderson QB, ARI  169 327 2065    7   10  51.7%   65.9\\nRyan Fitzpatrick QB, BUF    255 441 3000    23  15  57.8%   81.8\\nDonovan McNabb QB, WAS  275 472 3377    14  15  58.3%   77.1\\nKevin Kolb QB, PHI  115 189 1197    7   7   60.8%   76.1\\nAaron Rodgers QB, GB    312 475 3922    28  11  65.7%   101.2\\nSam Bradford QB, STL    354 590 3512    18  15  60.0%   76.5\\nShaun Hill QB, DET  257 416 2686    16  12  61.8%   81.3'"
      ]
     },
     "execution_count": 6,
     "metadata": {
      "tags": []
     },
     "output_type": "execute_result"
    }
   ],
   "source": [
    "qbdata.read()"
   ]
  },
  {
   "cell_type": "code",
   "execution_count": 7,
   "metadata": {
    "colab": {
     "base_uri": "https://localhost:8080/",
     "height": 126
    },
    "executionInfo": {
     "elapsed": 1047,
     "status": "ok",
     "timestamp": 1620937155182,
     "user": {
      "displayName": "Ana Beatriz Ferreira Lima",
      "photoUrl": "https://lh3.googleusercontent.com/a-/AOh14GggHt8_mbkDnXZff-k4M3yYcwgljM73TJaOFcf82g=s64",
      "userId": "04361221466185006768"
     },
     "user_tz": 180
    },
    "id": "p-caXOtDYWqd",
    "outputId": "42502e4b-4316-46be-d15d-d50e8d3622fe"
   },
   "outputs": [
    {
     "data": {
      "application/vnd.google.colaboratory.intrinsic+json": {
       "type": "string"
      },
      "text/plain": [
       "'Giants batem os Patriots no Super Bowl XLII\\nAzarões acabam com a invencibilidade de New England e ficam com o título da temporada\\n04/02/2008 - 01h07m - Atualizado em 04/02/2008 - 09h49m\\n\\nCom um passe de Eli Manning para Plaxico Burress a 39 segundos do fim, o New York Giants anotou o touchdown decisivo e derrubou o favorito New England Patriots por 17 a 14 neste domingo, em Glendale, no Super Bowl XLII. O resultado, uma das maiores zebras da história do Super Bowl, acabou com a temporada perfeita de Tom Brady e companhia, que esperavam fazer história ao levantar o troféu da NFL sem sofrer uma derrota no ano. \\n\\nA vitória dos Giants, porém, também ficará para a história. Pela primeira vez, irmãos quarterbacks triunfam no Super Bowl em temporadas consecutivas. No ano passado, Peyton Manning, irmão de Eli, chegou ao título máximo da NFL pelo Indianapolis Colts.\\n\\nA partida\\n\\nOs Giants começaram com a posse de bola, e mostraram logo que iriam alongar ao máximo suas posses de bola. Misturando corridas com Brandon Jacobs e passes curtos, o time de Nova York chegou à red zone logo na primeira campanha. O avanço, no entanto, parou na linha de 17 jardas e Lawrence Tynes converteu o field goal de 32 jardas para abrir o placar.\\n\\nEli Manning e companhia ficaram 9m54s com a bola, mas o ataque dos Patriots não entrou em campo frio. Logo no retorno do kickoff, o running back Laurence Maroney avançou 43 jardas, deixando Tom Brady em boa posição. Com passes curtos, os Patriots chegaram à linha de 17 jardas e, graças a uma penalidade (interferência de passe) do linebacker Antonio Pierce, alcançaram a linha de uma jarda. Maroney avançou pelo chão e anotou o primeiro touchdown do jogo.\\n\\nOs Giants pareciam rumo à virada na campanha seguinte. Manning achou Amani Toomer para um avanço de 38 jardas, e o time de Nova York entrou novamente na red zone. Com a bola na linha de 14 jardas dos Patriots, os Giants sofreram um revés. Manning passou para Steve Smith, que soltou a bola. Ellis Hobbs aproveitou, tomou a posse para os Patriots, e avançou 23 jardas. \\n\\nA defesa de Nova York manteve o jogo equilibrado. Com dois sacks seguidos, os Giants forçaram o punt e recuperaram a bola. Mas a campanha seguinte provou ser outra decepção para Nova York. O time chegou à linha de 25 jardas, mas Manning sofreu um sack e cometeu um fumble, e o ataque voltou para a linha de 39 jardas, não conseguindo pontuar mais uma vez.\\n\\nOs Patriots tiveram uma última chance de marcar antes do intervalo, mas, a 22 segundos do fim do segundo período, Brady foi novamente sacado. Desta vez, ele cometeu o fumble e os Giants tomaram a posse de bola. Manning tentou um passe longo, de 50 jardas, nos últimos segundos, mas não teve sucesso. \\n\\nO jogo continuou amarrado no terceiro quarto, com as defesas levando a melhor sobre os ataques. A única chance de pontuar do período foi dos Patriots, que chegaram à linha de 31 jardas dos Giants. O técnico Bill Bellichick, porém, optou por uma quarta descida em vez de um field goal. Brady tentou um passe para Jabar Gaffney, mas não conseguiu completar.\\n\\nO último período começou arrasador para os Giants. na primeira jogada, Manning achou o tight end Kevin Boss, para um incrível avanço de 45 jardas, que deixou o time na linha de 35 dos Patriots. Outro lançamento, desta vez para Steve Smith, marcou o avanço até a linha de 12 jardas. Duas jogadas depois, David Tyree pegou um passe de cinco jardas na end zone para anotar o touchdown e virar o jogo.\\n\\nNa hora da decisão, o ataque dos Patriots voltou a funcionar. Com uma série de passes curtos e variados, Brady achou Wes Welker, Randy Moss e Kevin Faulk seguidas vezes até chegar à red zone. A 2m45s do fim, o quarterback conectou mais uma vez com Moss, que se desmarcou e ficou livre na lateral direita da end zone.\\n\\nQuando os fãs de New England já comemoravam a vitória, o inesperado aconteceu. Em uma jogada incrível, Eli Manning se soltou de dois marcadores que o seguravam pela camisa e, na corrida, lançou para Amani Toomer. O wide receiver, bem marcado, saltou e conseguiu a fazer recepção para um avanço de 32 jardas, deixando os Giants na linha de 24 de New England.\\n\\nQuatro jogadas depois, a 39 segundos do fim, Manning achou Plaxico Burress na end zone para conseguir o touchdown do título.'"
      ]
     },
     "execution_count": 7,
     "metadata": {
      "tags": []
     },
     "output_type": "execute_result"
    }
   ],
   "source": [
    "corpus_test.read()"
   ]
  },
  {
   "cell_type": "markdown",
   "metadata": {
    "id": "AlnFkZNoLDCS"
   },
   "source": [
    "# Resolução dos Exercícios - Lista II"
   ]
  },
  {
   "cell_type": "markdown",
   "metadata": {
    "id": "HylSldezLDCb"
   },
   "source": [
    "### 1. Crie um dicionário com 5 entradas e suas respectivas chaves e valores. Faça:\n",
    "\n",
    "* a) Imprima todas as chaves do dicionário.\n",
    "\n",
    "* b) Imprima todas os valores do dicionário.\n",
    "\n",
    "* c) Imprima todas os itens do dicionário.\n",
    "\n",
    "* d) Imprima o 2º item do dicicionário.\n",
    "\n",
    "* e) Imprima o dicionário completo.\n",
    "\n",
    "* f) Percorra o dicionário, imprimindo para cada entrada o modelo \"(chave) tem como valor (valor)\"."
   ]
  },
  {
   "cell_type": "code",
   "execution_count": null,
   "metadata": {
    "id": "d7ltjMHqLfNT"
   },
   "outputs": [],
   "source": [
    "# a) Imprima todas as chaves do dicionário."
   ]
  },
  {
   "cell_type": "code",
   "execution_count": null,
   "metadata": {
    "id": "nSLFXUmkLfUl"
   },
   "outputs": [],
   "source": [
    "# b) Imprima todas os valores do dicionário."
   ]
  },
  {
   "cell_type": "code",
   "execution_count": null,
   "metadata": {
    "id": "_jh1zSBGLfbG"
   },
   "outputs": [],
   "source": [
    "# c) Imprima todas os itens do dicionário."
   ]
  },
  {
   "cell_type": "code",
   "execution_count": null,
   "metadata": {
    "id": "FDNAJo6OLfiH"
   },
   "outputs": [],
   "source": [
    "# d) Imprima o 2º item do dicicionário."
   ]
  },
  {
   "cell_type": "code",
   "execution_count": null,
   "metadata": {
    "id": "rpIIrK9NRVmO"
   },
   "outputs": [],
   "source": [
    "# e) Imprima o dicionário completo."
   ]
  },
  {
   "cell_type": "code",
   "execution_count": null,
   "metadata": {
    "id": "GFHCzWWjLfnm"
   },
   "outputs": [],
   "source": [
    "''' f) Percorra o dicionário, imprimindo para \n",
    "cada entrada o modelo \"(chave) tem como valor (valor)\". '''"
   ]
  },
  {
   "cell_type": "code",
   "execution_count": null,
   "metadata": {
    "id": "1F8YbEHuWyNA"
   },
   "outputs": [],
   "source": []
  },
  {
   "cell_type": "markdown",
   "metadata": {
    "id": "Ngyy3GZoLDCi"
   },
   "source": [
    "### 2. Crie um arquivo e:\n",
    "\n",
    "* a) Escreva nele os números de 1 a 10.\n",
    "\n",
    "* b) Depois de escrito, imprima na tela todos os números do arquivo.\n",
    "\n",
    "* c) Escreva no arquivo os números de 11 a 20, substituindo os números\n",
    "que estavam antes no arquivo.\n",
    "\n",
    "* d) Escreva no arquivo os números de 21 a 30, adicionando os números\n",
    "no final do arquivo (sem apagar o que já estavam lá).\n",
    "\n",
    "* e) Imprima na tela todos os números do arquivo novamente (de 11 a\n",
    "30).\n",
    "\n",
    "* f) Imprima na tela todos os números do arquivo novamente, mas agora\n",
    "linha por linha."
   ]
  },
  {
   "cell_type": "code",
   "execution_count": null,
   "metadata": {
    "id": "x5txaNjpLgX9"
   },
   "outputs": [],
   "source": [
    "# a) Escreva nele os números de 1 a 10."
   ]
  },
  {
   "cell_type": "code",
   "execution_count": null,
   "metadata": {
    "id": "clJJfVtdRce7"
   },
   "outputs": [],
   "source": [
    "# b) Depois de escrito, imprima na tela todos os números do arquivo."
   ]
  },
  {
   "cell_type": "code",
   "execution_count": null,
   "metadata": {
    "id": "Xn_hpqroLgcs"
   },
   "outputs": [],
   "source": [
    "''' c) Escreva no arquivo os números de 11 a 20, \n",
    "substituindo os números que estavam antes no arquivo. '''"
   ]
  },
  {
   "cell_type": "code",
   "execution_count": null,
   "metadata": {
    "id": "UoOclAA3Lgg2"
   },
   "outputs": [],
   "source": [
    "''' d) Escreva no arquivo os números de 21 a 30, \n",
    "adicionando os números no final do arquivo (sem apagar o que já estavam lá). '''"
   ]
  },
  {
   "cell_type": "code",
   "execution_count": null,
   "metadata": {
    "id": "1S-4Vk7-Lgk_"
   },
   "outputs": [],
   "source": [
    "# e) Imprima na tela todos os números do arquivo novamente (de 11 a 30)."
   ]
  },
  {
   "cell_type": "code",
   "execution_count": null,
   "metadata": {
    "id": "hJAIEt0iLgo5"
   },
   "outputs": [],
   "source": [
    "''' f) Imprima na tela todos os números do arquivo \n",
    "novamente, mas agora linha por linha. '''"
   ]
  },
  {
   "cell_type": "markdown",
   "metadata": {
    "id": "W8PapFUgLDCk"
   },
   "source": [
    "### 3. Crie uma variável com a string “ instituto de ciências matemáticas e de computação” e faça:\n",
    "\n",
    "* a) Concatene (adicione) uma outra string chamada “usp”.\n",
    "\n",
    "* b) Concatene (adicione) uma outra informação: 2021.\n",
    "\n",
    "* c) Verifique o tamanho da nova string (com as informações adicionadas\n",
    "das questões a e b), com referência a caracteres e espaços.\n",
    "\n",
    "* d) Transforme a string inteiramente em maiúsculo.\n",
    "\n",
    "* e) Transforme a string inteiramente em minúsculo.\n",
    "\n",
    "* f) Retire o espaço que está no início da string e imprima a string.\n",
    "\n",
    "* g) Substitua todas as letras ‘a’ por ‘x’.\n",
    "\n",
    "* h) Separe a string em palavras únicas.\n",
    "\n",
    "* i) Verifique quantas palavras existem na string.\n",
    "\n",
    "* j) Separe a string por meio da palavra “de”.\n",
    "\n",
    "* k) Verifique agora quantas palavras/frases foram formadas quando\n",
    "houve a separação pela palavra “de”.\n",
    "\n",
    "* l) Junte as palavras que foram separadas (pode usar a separação\n",
    "resultante da questão h ou j).\n",
    "\n",
    "* m) Junte as palavras que foram separadas, mas agora separadas por uma\n",
    "barra invertida, não por espaços (pode usar a separação resultante da\n",
    "questão h ou j)."
   ]
  },
  {
   "cell_type": "code",
   "execution_count": null,
   "metadata": {
    "id": "gtFgKoSVLhU2"
   },
   "outputs": [],
   "source": [
    "# a) Concatene (adicione) uma outra string chamada “usp”."
   ]
  },
  {
   "cell_type": "code",
   "execution_count": null,
   "metadata": {
    "id": "STmlZNSpRpPe"
   },
   "outputs": [],
   "source": [
    "# b) Concatene (adicione) uma outra informação: 2021."
   ]
  },
  {
   "cell_type": "code",
   "execution_count": null,
   "metadata": {
    "id": "Y3B4z4MjRpR2"
   },
   "outputs": [],
   "source": [
    "''' c) Verifique o tamanho da nova string (com as informações \n",
    "adicionadas das questões a e b), com referência a caracteres e espaços. '''"
   ]
  },
  {
   "cell_type": "code",
   "execution_count": null,
   "metadata": {
    "id": "12IHzepZRpUs"
   },
   "outputs": [],
   "source": [
    "# d) Transforme a string inteiramente em maiúsculo."
   ]
  },
  {
   "cell_type": "code",
   "execution_count": null,
   "metadata": {
    "id": "eMFSTMNeLhX-"
   },
   "outputs": [],
   "source": [
    "# e) Transforme a string inteiramente em minúsculo."
   ]
  },
  {
   "cell_type": "code",
   "execution_count": null,
   "metadata": {
    "id": "VH8JRq-tLhbo"
   },
   "outputs": [],
   "source": [
    "# f) Retire o espaço que está no início da string e imprima a string."
   ]
  },
  {
   "cell_type": "code",
   "execution_count": null,
   "metadata": {
    "id": "3m0RaTmmLheq"
   },
   "outputs": [],
   "source": [
    "# g) Substitua todas as letras ‘a’ por ‘x’."
   ]
  },
  {
   "cell_type": "code",
   "execution_count": null,
   "metadata": {
    "id": "4JDp5r1mLhi6"
   },
   "outputs": [],
   "source": [
    "# h) Separe a string em palavras únicas."
   ]
  },
  {
   "cell_type": "code",
   "execution_count": null,
   "metadata": {
    "id": "hGoIDCsMR2ef"
   },
   "outputs": [],
   "source": [
    "# i) Verifique quantas palavras existem na string."
   ]
  },
  {
   "cell_type": "code",
   "execution_count": null,
   "metadata": {
    "id": "HPAT_kOfR2gl"
   },
   "outputs": [],
   "source": [
    "# j) Separe a string por meio da palavra “de”."
   ]
  },
  {
   "cell_type": "code",
   "execution_count": null,
   "metadata": {
    "id": "icCmqTZPR7aT"
   },
   "outputs": [],
   "source": [
    "''' k) Verifique agora quantas palavras/frases foram formadas \n",
    "quando houve a separação pela palavra “de”. '''"
   ]
  },
  {
   "cell_type": "code",
   "execution_count": null,
   "metadata": {
    "id": "RH_2yTBlR7dW"
   },
   "outputs": [],
   "source": [
    "''' l) Junte as palavras que foram separadas (pode usar a \n",
    "separação resultante da questão h ou j). '''"
   ]
  },
  {
   "cell_type": "code",
   "execution_count": null,
   "metadata": {
    "id": "ppR5cG4uR7fW"
   },
   "outputs": [],
   "source": [
    "''' m) Junte as palavras que foram separadas, mas agora separadas \n",
    "por uma barra invertida, não por espaços (pode usar a separação \n",
    "resultante da questão h ou j). '''\n"
   ]
  },
  {
   "cell_type": "markdown",
   "metadata": {
    "id": "9tZm8ZKMLDCl"
   },
   "source": [
    "### 4. Crie uma lista com números de 0 a 9 (em qualquer ordem) e faça:\n",
    "\n",
    "* a) Tokenize o corpus inteiro (palavras, números e pontuações).\n",
    "\n",
    "* b) Verifique a quantidade de tokens do corpus.\n",
    "\n",
    "* c) Tokenize o corpus apenas por suas palavras.\n",
    "\n",
    "* d) Verifique a quantidade de palavras do corpus.\n",
    "\n",
    "* e) Verifique a frequência de palavras no corpus.\n",
    "\n",
    "* f) Verifique quais são as 5, 10 e 15 palavras mais frequentes do corpus.\n",
    "\n",
    "* g) Extraia as stopwords do NLTK (não do corpus ainda).\n",
    "\n",
    "* h) Verifique a frequência dos tokens sem stopwords do corpus.\n",
    "\n",
    "* i) Extraia todos os bigramas do corpus.\n",
    "\n",
    "* j) Extraia todos os trigramas do corpus.\n",
    "\n",
    "* k) Extraia todos os 4-gramas do corpus.\n",
    "\n",
    "* l) Retorne as entidades nomeadas do corpus, usando os bigramas e\n",
    "trigramas.\n",
    "\n",
    "* m) Escolha 3 palavras do seu corpus e faça o stemming delas.\n",
    "\n",
    "* n) Separe uma sentença do seu corpus e retorne todas as classes\n",
    "gramaticais das palavras da sentença. Analise se o etiquetador\n",
    "acertou todas as classes gramaticais.\n",
    "\n",
    "* o) Retorne as classes gramaticais de todas as palavras do seu corpus.\n",
    "\n",
    "* p) Retorne as entidades nomeadas do seu corpus, usando a técnica de\n",
    "chunking."
   ]
  },
  {
   "cell_type": "code",
   "execution_count": null,
   "metadata": {
    "id": "BKTPGMvuLX18"
   },
   "outputs": [],
   "source": [
    "# a) Tokenize o corpus inteiro (palavras, números e pontuações)."
   ]
  },
  {
   "cell_type": "code",
   "execution_count": null,
   "metadata": {
    "id": "dTeYYSCKTBkL"
   },
   "outputs": [],
   "source": [
    "# b) Verifique a quantidade de tokens do corpus."
   ]
  },
  {
   "cell_type": "code",
   "execution_count": null,
   "metadata": {
    "id": "t2YiFicsTBmS"
   },
   "outputs": [],
   "source": [
    "# c) Tokenize o corpus apenas por suas palavras."
   ]
  },
  {
   "cell_type": "code",
   "execution_count": null,
   "metadata": {
    "id": "YBlBAql8TBtw"
   },
   "outputs": [],
   "source": [
    "# d) Verifique a quantidade de palavras do corpus."
   ]
  },
  {
   "cell_type": "code",
   "execution_count": null,
   "metadata": {
    "id": "R-iQEazQTBwH"
   },
   "outputs": [],
   "source": [
    "# e) Verifique a frequência de palavras no corpus."
   ]
  },
  {
   "cell_type": "code",
   "execution_count": null,
   "metadata": {
    "id": "CPn4bpcOTKC7"
   },
   "outputs": [],
   "source": [
    "# f) Verifique quais são as 5, 10 e 15 palavras mais frequentes do corpus."
   ]
  },
  {
   "cell_type": "code",
   "execution_count": null,
   "metadata": {
    "id": "4Eo1LMefTKFg"
   },
   "outputs": [],
   "source": [
    "# g) Extraia as stopwords do NLTK (não do corpus ainda)."
   ]
  },
  {
   "cell_type": "code",
   "execution_count": null,
   "metadata": {
    "id": "F-PmISYbTKI-"
   },
   "outputs": [],
   "source": [
    "# h) Verifique a frequência dos tokens sem stopwords do corpus."
   ]
  },
  {
   "cell_type": "code",
   "execution_count": null,
   "metadata": {
    "id": "dnRjH7p4TKK1"
   },
   "outputs": [],
   "source": [
    "# i) Extraia todos os bigramas do corpus."
   ]
  },
  {
   "cell_type": "code",
   "execution_count": null,
   "metadata": {
    "id": "E4_hrfDWLX97"
   },
   "outputs": [],
   "source": [
    "# j) Extraia todos os trigramas do corpus."
   ]
  },
  {
   "cell_type": "code",
   "execution_count": null,
   "metadata": {
    "id": "dqxlis7jLYCp"
   },
   "outputs": [],
   "source": [
    "# k) Extraia todos os 4-gramas do corpus."
   ]
  },
  {
   "cell_type": "code",
   "execution_count": null,
   "metadata": {
    "id": "JFloc347LYH2"
   },
   "outputs": [],
   "source": [
    "# l) Retorne as entidades nomeadas do corpus, usando os bigramas e trigramas."
   ]
  },
  {
   "cell_type": "code",
   "execution_count": null,
   "metadata": {
    "id": "oW4Z0S_hLYMz"
   },
   "outputs": [],
   "source": [
    "# m) Escolha 3 palavras do seu corpus e faça o stemming delas."
   ]
  },
  {
   "cell_type": "code",
   "execution_count": null,
   "metadata": {
    "id": "FO3z2Yy3TgKT"
   },
   "outputs": [],
   "source": [
    "''' n) Separe uma sentença do seu corpus e retorne \n",
    "todas as classes gramaticais das palavras da sentença. \n",
    "Analise se o etiquetador acertou todas as classes gramaticais. '''"
   ]
  },
  {
   "cell_type": "code",
   "execution_count": null,
   "metadata": {
    "id": "HMXmkF-gTgRp"
   },
   "outputs": [],
   "source": [
    "# o) Retorne as classes gramaticais de todas as palavras do seu corpus."
   ]
  },
  {
   "cell_type": "code",
   "execution_count": null,
   "metadata": {
    "id": "HWrNpbuxTgXz"
   },
   "outputs": [],
   "source": [
    "# p) Retorne as entidades nomeadas do seu corpus, usando a técnica de chunking."
   ]
  },
  {
   "cell_type": "markdown",
   "metadata": {
    "id": "xnZOlRfPQ8Me"
   },
   "source": [
    "### Exercícios de fixação presentes nos slides da aula que se encontram no Drive do curso: \n",
    "\n",
    "* Parte I (slides 26 a 29).\n",
    "\n",
    "* Parte II (slide 33).\n",
    "\n",
    "\n",
    "\n",
    "\n"
   ]
  },
  {
   "cell_type": "markdown",
   "metadata": {
    "id": "UavMTEo8UDDP"
   },
   "source": [
    "#### Exercícios - Parte I"
   ]
  },
  {
   "cell_type": "markdown",
   "metadata": {
    "id": "TyxrSEtFUc8E"
   },
   "source": [
    "##### 1. Dado o arquivo qbdata.txt, retorne o rating de cada QB na forma “nome do QB teve valor XX.X’ e escreva em um arquivo novo."
   ]
  },
  {
   "cell_type": "code",
   "execution_count": null,
   "metadata": {
    "id": "TRf84ImHUcCY"
   },
   "outputs": [],
   "source": []
  },
  {
   "cell_type": "code",
   "execution_count": null,
   "metadata": {
    "id": "wA1rhy2tVIev"
   },
   "outputs": [],
   "source": []
  },
  {
   "cell_type": "code",
   "execution_count": null,
   "metadata": {
    "id": "QTFXwBqrUPQ_"
   },
   "outputs": [],
   "source": []
  },
  {
   "cell_type": "markdown",
   "metadata": {
    "id": "7dkUojFtUi36"
   },
   "source": [
    "##### 2. Pensando em uma agenda, construa um dicionário com informações do contato sendo: CPF, nome, telefone e user no Twitter. \n",
    "\n",
    "##### Ao final, imprima todos os contatos da seguinte forma: \n",
    "* CPF: nome, telefone (user)"
   ]
  },
  {
   "cell_type": "code",
   "execution_count": null,
   "metadata": {
    "id": "usRGPOqQVH1t"
   },
   "outputs": [],
   "source": []
  },
  {
   "cell_type": "code",
   "execution_count": null,
   "metadata": {
    "id": "ii-pKQ7JVH41"
   },
   "outputs": [],
   "source": []
  },
  {
   "cell_type": "code",
   "execution_count": null,
   "metadata": {
    "id": "yguFiaIiVH-M"
   },
   "outputs": [],
   "source": []
  },
  {
   "cell_type": "markdown",
   "metadata": {
    "id": "ZBBFwho2UDbM"
   },
   "source": [
    "#### Exercícios - Parte II"
   ]
  },
  {
   "cell_type": "markdown",
   "metadata": {
    "id": "d1PlUlzaVg9w"
   },
   "source": [
    "##### Faça uma análise descritiva completa do nosso corpus de teste, utilizando as funções do NLTK.\n",
    "\n",
    "> Exemplos de atributos:\n",
    "* Quantidade de tokens.\n",
    "* Quantidade de sentenças / média do tamanho das\n",
    "sentenças.\n",
    "* Quantidade de substantivos, adjetivos, advérbios...\n",
    "* Quantidade de palavras com o mesmo radical.\n",
    "* Quantidade de símbolos de pontuação.\n",
    "* Palavras mais frequentes do corpus.\n",
    "\n"
   ]
  },
  {
   "cell_type": "code",
   "execution_count": null,
   "metadata": {
    "id": "NGx_HCTcRFq_"
   },
   "outputs": [],
   "source": []
  }
 ],
 "metadata": {
  "colab": {
   "name": "ResolucaoExercicios_Aula02.ipynb",
   "provenance": []
  },
  "kernelspec": {
   "display_name": "Python 3",
   "language": "python",
   "name": "python3"
  },
  "language_info": {
   "codemirror_mode": {
    "name": "ipython",
    "version": 3
   },
   "file_extension": ".py",
   "mimetype": "text/x-python",
   "name": "python",
   "nbconvert_exporter": "python",
   "pygments_lexer": "ipython3",
   "version": "3.8.5"
  }
 },
 "nbformat": 4,
 "nbformat_minor": 1
}