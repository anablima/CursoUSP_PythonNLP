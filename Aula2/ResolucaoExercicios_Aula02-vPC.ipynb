{
 "cells": [
  {
   "source": [
    "# Resolução dos Exercícios - Versão PC + Repositório Local"
   ],
   "cell_type": "markdown",
   "metadata": {}
  },
  {
   "cell_type": "code",
   "execution_count": 24,
   "metadata": {
    "executionInfo": {
     "elapsed": 549,
     "status": "ok",
     "timestamp": 1620937124260,
     "user": {
      "displayName": "Ana Beatriz Ferreira Lima",
      "photoUrl": "https://lh3.googleusercontent.com/a-/AOh14GggHt8_mbkDnXZff-k4M3yYcwgljM73TJaOFcf82g=s64",
      "userId": "04361221466185006768"
     },
     "user_tz": 180
    },
    "id": "7YVAkW0EX1_N"
   },
   "outputs": [
    {
     "output_type": "execute_result",
     "data": {
      "text/plain": [
       "'Colt McCoy QB, CLE  135 222 1576    6   9   60.8%   74.5\\nJosh Freeman QB, TB 291 474 3451    25  6   61.4%   95.9\\nMichael Vick QB, PHI    233 372 3018    21  6   62.6%   100.2\\nMatt Schaub QB, HOU 365 574 4370    24  12  63.6%   92.0\\nPhilip Rivers QB, SD    357 541 4710    30  13  66.0%   101.8\\nMatt Hasselbeck QB, SEA 266 444 3001    12  17  59.9%   73.2\\nJimmy Clausen QB, CAR   157 299 1558    3   9   52.5%   58.4\\nJoe Flacco QB, BAL  306 489 3622    25  10  62.6%   93.6\\nKyle Orton QB, DEN  293 498 3653    20  9   58.8%   87.5\\nJason Campbell QB, OAK  194 329 2387    13  8   59.0%   84.5\\nPeyton Manning QB, IND  450 679 4700    33  17  66.3%   91.9\\nDrew Brees QB, NO   448 658 4620    33  22  68.1%   90.9\\nMatt Ryan QB, ATL   357 571 3705    28  9   62.5%   91.0\\nMatt Cassel QB, KC  262 450 3116    27  7   58.2%   93.0\\nMark Sanchez QB, NYJ    278 507 3291    17  13  54.8%   75.3\\nBrett Favre QB, MIN 217 358 2509    11  19  60.6%   69.9\\nDavid Garrard QB, JAC   236 366 2734    23  15  64.5%   90.8\\nEli Manning QB, NYG 339 539 4002    31  25  62.9%   85.3\\nCarson Palmer QB, CIN   362 586 3970    26  20  61.8%   82.4\\nAlex Smith QB, SF   204 342 2370    14  10  59.6%   82.1\\nChad Henne QB, MIA  301 490 3301    15  19  61.4%   75.4\\nTony Romo QB, DAL   148 213 1605    11  7   69.5%   94.9\\nJay Cutler QB, CHI  261 432 3274    23  16  60.4%   86.3\\nJon Kitna QB, DAL   209 318 2365    16  12  65.7%   88.9\\nTom Brady QB, NE    324 492 3900    36  4   65.9%   111.0\\nBen Roethlisberger QB, PIT  240 389 3200    17  5   61.7%   97.0\\nKerry Collins QB, TEN   160 278 1823    14  8   57.6%   82.2\\nDerek Anderson QB, ARI  169 327 2065    7   10  51.7%   65.9\\nRyan Fitzpatrick QB, BUF    255 441 3000    23  15  57.8%   81.8\\nDonovan McNabb QB, WAS  275 472 3377    14  15  58.3%   77.1\\nKevin Kolb QB, PHI  115 189 1197    7   7   60.8%   76.1\\nAaron Rodgers QB, GB    312 475 3922    28  11  65.7%   101.2\\nSam Bradford QB, STL    354 590 3512    18  15  60.0%   76.5\\nShaun Hill QB, DET  257 416 2686    16  12  61.8%   81.3'"
      ]
     },
     "metadata": {},
     "execution_count": 24
    }
   ],
   "source": [
    "# Abrindo arquivo txt do corpus no disco local e salvando em uma variável\n",
    "text_qbdata = open('textos/qbdata.txt','r')\n",
    "reading_qbdata = text_qbdata.read()\n",
    "reading_qbdata"
   ]
  },
  {
   "cell_type": "code",
   "execution_count": 25,
   "metadata": {},
   "outputs": [],
   "source": [
    "# Fechando o arquivo\n",
    "text_qbdata.close()"
   ]
  },
  {
   "cell_type": "markdown",
   "metadata": {
    "id": "AlnFkZNoLDCS"
   },
   "source": [
    "# Resolução dos Exercícios - Lista II"
   ]
  },
  {
   "cell_type": "markdown",
   "metadata": {
    "id": "HylSldezLDCb"
   },
   "source": [
    "### 1. Crie um dicionário com 5 entradas e suas respectivas chaves e valores. Faça:\n",
    "\n",
    "* a) Imprima todas as chaves do dicionário.\n",
    "\n",
    "* b) Imprima todas os valores do dicionário.\n",
    "\n",
    "* c) Imprima todas os itens do dicionário.\n",
    "\n",
    "* d) Imprima o 2º item do dicicionário.\n",
    "\n",
    "* e) Imprima o dicionário completo.\n",
    "\n",
    "* f) Percorra o dicionário, imprimindo para cada entrada o modelo \"(chave) tem como valor (valor)\"."
   ]
  },
  {
   "cell_type": "code",
   "execution_count": null,
   "metadata": {},
   "outputs": [],
   "source": [
    "# Criando uma dict\n",
    "studDict = {'joia1':'corrente',\n",
    "            'joia2':'pulseira',\n",
    "            'joia3':'anel',\n",
    "            'joia4':'brinco'}"
   ]
  },
  {
   "cell_type": "code",
   "execution_count": null,
   "metadata": {
    "id": "d7ltjMHqLfNT"
   },
   "outputs": [],
   "source": [
    "# a) Imprima todas as chaves do dicionário.\n",
    "studDict.keys()"
   ]
  },
  {
   "cell_type": "code",
   "execution_count": null,
   "metadata": {
    "id": "nSLFXUmkLfUl"
   },
   "outputs": [],
   "source": [
    "# b) Imprima todas os valores do dicionário.\n",
    "studDict.values()"
   ]
  },
  {
   "cell_type": "code",
   "execution_count": null,
   "metadata": {
    "id": "_jh1zSBGLfbG"
   },
   "outputs": [],
   "source": [
    "# c) Imprima todas os itens do dicionário.\n",
    "studDict.items()"
   ]
  },
  {
   "cell_type": "code",
   "execution_count": null,
   "metadata": {
    "id": "FDNAJo6OLfiH"
   },
   "outputs": [],
   "source": [
    "# d) Imprima o 2º item do dicicionário.\n",
    "studDict['joia2']"
   ]
  },
  {
   "cell_type": "code",
   "execution_count": null,
   "metadata": {
    "id": "rpIIrK9NRVmO"
   },
   "outputs": [],
   "source": [
    "# e) Imprima o dicionário completo.\n",
    "studDict"
   ]
  },
  {
   "cell_type": "code",
   "execution_count": null,
   "metadata": {
    "id": "GFHCzWWjLfnm"
   },
   "outputs": [],
   "source": [
    "''' f) Percorra o dicionário, imprimindo para \n",
    "cada entrada o modelo \"(chave) tem como valor (valor)\". '''\n",
    "for k in studDict.keys():\n",
    "  print('chave: ' + str(k) + ' Valor: ' + str(studDict[k]))"
   ]
  },
  {
   "cell_type": "code",
   "execution_count": null,
   "metadata": {
    "id": "1F8YbEHuWyNA"
   },
   "outputs": [],
   "source": []
  },
  {
   "cell_type": "markdown",
   "metadata": {
    "id": "Ngyy3GZoLDCi"
   },
   "source": [
    "### 2. Crie um arquivo e:\n",
    "\n",
    "* a) Escreva nele os números de 1 a 10.\n",
    "\n",
    "* b) Depois de escrito, imprima na tela todos os números do arquivo.\n",
    "\n",
    "* c) Escreva no arquivo os números de 11 a 20, substituindo os números\n",
    "que estavam antes no arquivo.\n",
    "\n",
    "* d) Escreva no arquivo os números de 21 a 30, adicionando os números\n",
    "no final do arquivo (sem apagar o que já estavam lá).\n",
    "\n",
    "* e) Imprima na tela todos os números do arquivo novamente (de 11 a\n",
    "30).\n",
    "\n",
    "* f) Imprima na tela todos os números do arquivo novamente, mas agora\n",
    "linha por linha."
   ]
  },
  {
   "cell_type": "code",
   "execution_count": null,
   "metadata": {},
   "outputs": [],
   "source": [
    "# Criando e abrindo o arquivo\n",
    "exerc2_arq = open('exerc2.txt','w')"
   ]
  },
  {
   "cell_type": "code",
   "execution_count": null,
   "metadata": {
    "id": "x5txaNjpLgX9"
   },
   "outputs": [],
   "source": [
    "# a) Escreva nele os números de 1 a 10.\n",
    "exerc2_arq.write('1, 2, 3, 4, 5, 6, 7, 8, 9, 10')"
   ]
  },
  {
   "cell_type": "code",
   "execution_count": null,
   "metadata": {
    "id": "clJJfVtdRce7"
   },
   "outputs": [],
   "source": [
    "# b) Depois de escrito, imprima na tela todos os números do arquivo.\n",
    "exerc2_arq = open('exerc2.txt','r')\n",
    "reading = exerc2_arq.read()\n",
    "print(reading)"
   ]
  },
  {
   "cell_type": "code",
   "execution_count": null,
   "metadata": {
    "id": "Xn_hpqroLgcs"
   },
   "outputs": [],
   "source": [
    "''' c) Escreva no arquivo os números de 11 a 20, \n",
    "substituindo os números que estavam antes no arquivo. '''\n",
    "exerc2_arq = open('exerc2.txt','w')\n",
    "exerc2_arq.write('11, 12, 13, 14, 15, 16, 17, 18, 19, 20')\n",
    "exerc2_arq = open('exerc2.txt','r')\n",
    "reading = exerc2_arq.read()\n",
    "print(reading)"
   ]
  },
  {
   "cell_type": "code",
   "execution_count": null,
   "metadata": {
    "id": "UoOclAA3Lgg2"
   },
   "outputs": [],
   "source": [
    "''' d) Escreva no arquivo os números de 21 a 30, \n",
    "adicionando os números no final do arquivo (sem apagar o que já estavam lá). '''\n",
    "exerc2_arq = open('exerc2.txt','a')\n",
    "exerc2_arq.write('\\n21, 22, 23, 24, 25, 26, 27, 28, 29, 30')\n",
    "exerc2_arq.close()"
   ]
  },
  {
   "cell_type": "code",
   "execution_count": null,
   "metadata": {
    "id": "1S-4Vk7-Lgk_"
   },
   "outputs": [],
   "source": [
    "# e) Imprima na tela todos os números do arquivo novamente (de 11 a 30).\n",
    "exerc2_arq = open('exerc2.txt','r')\n",
    "reading = exerc2_arq.read()\n",
    "print(reading)"
   ]
  },
  {
   "cell_type": "code",
   "execution_count": null,
   "metadata": {
    "id": "hJAIEt0iLgo5"
   },
   "outputs": [],
   "source": [
    "# f) Imprima na tela todos os números do arquivo \n",
    "# novamente, mas agora linha por linha."
   ]
  },
  {
   "cell_type": "markdown",
   "metadata": {
    "id": "W8PapFUgLDCk"
   },
   "source": [
    "### 3. Crie uma variável com a string “instituto de ciências matemáticas e de computação” e faça:\n",
    "\n",
    "* a) Concatene (adicione) uma outra string chamada “usp”.\n",
    "\n",
    "* b) Concatene (adicione) uma outra informação: 2021.\n",
    "\n",
    "* c) Verifique o tamanho da nova string (com as informações adicionadas\n",
    "das questões a e b), com referência a caracteres e espaços.\n",
    "\n",
    "* d) Transforme a string inteiramente em maiúsculo.\n",
    "\n",
    "* e) Transforme a string inteiramente em minúsculo.\n",
    "\n",
    "* f) Retire o espaço que está no início da string e imprima a string.\n",
    "\n",
    "* g) Substitua todas as letras ‘a’ por ‘x’.\n",
    "\n",
    "* h) Separe a string em palavras únicas.\n",
    "\n",
    "* i) Verifique quantas palavras existem na string.\n",
    "\n",
    "* j) Separe a string por meio da palavra “de”.\n",
    "\n",
    "* k) Verifique agora quantas palavras/frases foram formadas quando\n",
    "houve a separação pela palavra “de”.\n",
    "\n",
    "* l) Junte as palavras que foram separadas (pode usar a separação\n",
    "resultante da questão h ou j).\n",
    "\n",
    "* m) Junte as palavras que foram separadas, mas agora separadas por uma\n",
    "barra invertida, não por espaços (pode usar a separação resultante da\n",
    "questão h ou j)."
   ]
  },
  {
   "cell_type": "code",
   "execution_count": 45,
   "metadata": {},
   "outputs": [
    {
     "output_type": "execute_result",
     "data": {
      "text/plain": [
       "' instituto de ciências matemáticas e de computação'"
      ]
     },
     "metadata": {},
     "execution_count": 45
    }
   ],
   "source": [
    "# Criando a variável para a execução do exercício\n",
    "varex3 = ' instituto de ciências matemáticas e de computação'\n",
    "varex3"
   ]
  },
  {
   "cell_type": "code",
   "execution_count": 46,
   "metadata": {
    "id": "gtFgKoSVLhU2"
   },
   "outputs": [
    {
     "output_type": "execute_result",
     "data": {
      "text/plain": [
       "' instituto de ciências matemáticas e de computação usp'"
      ]
     },
     "metadata": {},
     "execution_count": 46
    }
   ],
   "source": [
    "# a) Concatene (adicione) uma outra string chamada “usp”.\n",
    "varex3 = varex3 + ' usp'\n",
    "varex3"
   ]
  },
  {
   "cell_type": "code",
   "execution_count": 47,
   "metadata": {
    "id": "STmlZNSpRpPe"
   },
   "outputs": [
    {
     "output_type": "execute_result",
     "data": {
      "text/plain": [
       "' instituto de ciências matemáticas e de computação usp 2021.'"
      ]
     },
     "metadata": {},
     "execution_count": 47
    }
   ],
   "source": [
    "# b) Concatene (adicione) uma outra informação: 2021.\n",
    "varex3 = varex3 + ' 2021.'\n",
    "varex3"
   ]
  },
  {
   "cell_type": "code",
   "execution_count": 48,
   "metadata": {
    "id": "Y3B4z4MjRpR2"
   },
   "outputs": [
    {
     "output_type": "execute_result",
     "data": {
      "text/plain": [
       "60"
      ]
     },
     "metadata": {},
     "execution_count": 48
    }
   ],
   "source": [
    "# c) Verifique o tamanho da nova string (com as informações \n",
    "# adicionadas das questões a) e b), com referência a caracteres e espaços.\n",
    "len(varex3)"
   ]
  },
  {
   "cell_type": "code",
   "execution_count": 49,
   "metadata": {
    "id": "12IHzepZRpUs"
   },
   "outputs": [
    {
     "output_type": "execute_result",
     "data": {
      "text/plain": [
       "' INSTITUTO DE CIÊNCIAS MATEMÁTICAS E DE COMPUTAÇÃO USP 2021.'"
      ]
     },
     "metadata": {},
     "execution_count": 49
    }
   ],
   "source": [
    "# d) Transforme a string inteiramente em maiúsculo.\n",
    "varex3.upper()"
   ]
  },
  {
   "cell_type": "code",
   "execution_count": 50,
   "metadata": {
    "id": "eMFSTMNeLhX-"
   },
   "outputs": [
    {
     "output_type": "execute_result",
     "data": {
      "text/plain": [
       "' instituto de ciências matemáticas e de computação usp 2021.'"
      ]
     },
     "metadata": {},
     "execution_count": 50
    }
   ],
   "source": [
    "# e) Transforme a string inteiramente em minúsculo.\n",
    "varex3.lower()"
   ]
  },
  {
   "cell_type": "code",
   "execution_count": null,
   "metadata": {
    "id": "VH8JRq-tLhbo"
   },
   "outputs": [],
   "source": [
    "# f) Retire o espaço que está no início da string e imprima a string."
   ]
  },
  {
   "cell_type": "code",
   "execution_count": null,
   "metadata": {
    "id": "3m0RaTmmLheq"
   },
   "outputs": [],
   "source": [
    "# g) Substitua todas as letras ‘a’ por ‘x’."
   ]
  },
  {
   "cell_type": "code",
   "execution_count": null,
   "metadata": {
    "id": "4JDp5r1mLhi6"
   },
   "outputs": [],
   "source": [
    "# h) Separe a string em palavras únicas."
   ]
  },
  {
   "cell_type": "code",
   "execution_count": null,
   "metadata": {
    "id": "hGoIDCsMR2ef"
   },
   "outputs": [],
   "source": [
    "# i) Verifique quantas palavras existem na string."
   ]
  },
  {
   "cell_type": "code",
   "execution_count": null,
   "metadata": {
    "id": "HPAT_kOfR2gl"
   },
   "outputs": [],
   "source": [
    "# j) Separe a string por meio da palavra “de”."
   ]
  },
  {
   "cell_type": "code",
   "execution_count": null,
   "metadata": {
    "id": "icCmqTZPR7aT"
   },
   "outputs": [],
   "source": [
    "# k) Verifique agora quantas palavras/frases foram formadas \n",
    "# quando houve a separação pela palavra “de”."
   ]
  },
  {
   "cell_type": "code",
   "execution_count": null,
   "metadata": {
    "id": "RH_2yTBlR7dW"
   },
   "outputs": [],
   "source": [
    "# l) Junte as palavras que foram separadas (pode usar a \n",
    "# separação resultante da questão h ou j)."
   ]
  },
  {
   "cell_type": "code",
   "execution_count": null,
   "metadata": {
    "id": "ppR5cG4uR7fW"
   },
   "outputs": [],
   "source": [
    "# m) Junte as palavras que foram separadas, mas agora separadas \n",
    "# por uma barra invertida, não por espaços (pode usar a separação \n",
    "# resultante da questão h ou j).\n"
   ]
  },
  {
   "cell_type": "markdown",
   "metadata": {
    "id": "9tZm8ZKMLDCl"
   },
   "source": [
    "### 4. Crie uma lista com números de 0 a 9 (em qualquer ordem) e faça:\n",
    "\n",
    "* a) Tokenize o corpus inteiro (palavras, números e pontuações).\n",
    "\n",
    "* b) Verifique a quantidade de tokens do corpus.\n",
    "\n",
    "* c) Tokenize o corpus apenas por suas palavras.\n",
    "\n",
    "* d) Verifique a quantidade de palavras do corpus.\n",
    "\n",
    "* e) Verifique a frequência de palavras no corpus.\n",
    "\n",
    "* f) Verifique quais são as 5, 10 e 15 palavras mais frequentes do corpus.\n",
    "\n",
    "* g) Extraia as stopwords do NLTK (não do corpus ainda).\n",
    "\n",
    "* h) Verifique a frequência dos tokens sem stopwords do corpus.\n",
    "\n",
    "* i) Extraia todos os bigramas do corpus.\n",
    "\n",
    "* j) Extraia todos os trigramas do corpus.\n",
    "\n",
    "* k) Extraia todos os 4-gramas do corpus.\n",
    "\n",
    "* l) Retorne as entidades nomeadas do corpus, usando os bigramas e\n",
    "trigramas.\n",
    "\n",
    "* m) Escolha 3 palavras do seu corpus e faça o stemming delas.\n",
    "\n",
    "* n) Separe uma sentença do seu corpus e retorne todas as classes\n",
    "gramaticais das palavras da sentença. Analise se o etiquetador\n",
    "acertou todas as classes gramaticais.\n",
    "\n",
    "* o) Retorne as classes gramaticais de todas as palavras do seu corpus.\n",
    "\n",
    "* p) Retorne as entidades nomeadas do seu corpus, usando a técnica de\n",
    "chunking."
   ]
  },
  {
   "cell_type": "code",
   "execution_count": null,
   "metadata": {
    "id": "BKTPGMvuLX18"
   },
   "outputs": [],
   "source": [
    "# a) Tokenize o corpus inteiro (palavras, números e pontuações)."
   ]
  },
  {
   "cell_type": "code",
   "execution_count": null,
   "metadata": {
    "id": "dTeYYSCKTBkL"
   },
   "outputs": [],
   "source": [
    "# b) Verifique a quantidade de tokens do corpus."
   ]
  },
  {
   "cell_type": "code",
   "execution_count": null,
   "metadata": {
    "id": "t2YiFicsTBmS"
   },
   "outputs": [],
   "source": [
    "# c) Tokenize o corpus apenas por suas palavras."
   ]
  },
  {
   "cell_type": "code",
   "execution_count": null,
   "metadata": {
    "id": "YBlBAql8TBtw"
   },
   "outputs": [],
   "source": [
    "# d) Verifique a quantidade de palavras do corpus."
   ]
  },
  {
   "cell_type": "code",
   "execution_count": null,
   "metadata": {
    "id": "R-iQEazQTBwH"
   },
   "outputs": [],
   "source": [
    "# e) Verifique a frequência de palavras no corpus."
   ]
  },
  {
   "cell_type": "code",
   "execution_count": null,
   "metadata": {
    "id": "CPn4bpcOTKC7"
   },
   "outputs": [],
   "source": [
    "# f) Verifique quais são as 5, 10 e 15 palavras mais frequentes do corpus."
   ]
  },
  {
   "cell_type": "code",
   "execution_count": null,
   "metadata": {
    "id": "4Eo1LMefTKFg"
   },
   "outputs": [],
   "source": [
    "# g) Extraia as stopwords do NLTK (não do corpus ainda)."
   ]
  },
  {
   "cell_type": "code",
   "execution_count": null,
   "metadata": {
    "id": "F-PmISYbTKI-"
   },
   "outputs": [],
   "source": [
    "# h) Verifique a frequência dos tokens sem stopwords do corpus."
   ]
  },
  {
   "cell_type": "code",
   "execution_count": null,
   "metadata": {
    "id": "dnRjH7p4TKK1"
   },
   "outputs": [],
   "source": [
    "# i) Extraia todos os bigramas do corpus."
   ]
  },
  {
   "cell_type": "code",
   "execution_count": null,
   "metadata": {
    "id": "E4_hrfDWLX97"
   },
   "outputs": [],
   "source": [
    "# j) Extraia todos os trigramas do corpus."
   ]
  },
  {
   "cell_type": "code",
   "execution_count": null,
   "metadata": {
    "id": "dqxlis7jLYCp"
   },
   "outputs": [],
   "source": [
    "# k) Extraia todos os 4-gramas do corpus."
   ]
  },
  {
   "cell_type": "code",
   "execution_count": null,
   "metadata": {
    "id": "JFloc347LYH2"
   },
   "outputs": [],
   "source": [
    "# l) Retorne as entidades nomeadas do corpus, usando os bigramas e trigramas."
   ]
  },
  {
   "cell_type": "code",
   "execution_count": null,
   "metadata": {
    "id": "oW4Z0S_hLYMz"
   },
   "outputs": [],
   "source": [
    "# m) Escolha 3 palavras do seu corpus e faça o stemming delas."
   ]
  },
  {
   "cell_type": "code",
   "execution_count": null,
   "metadata": {
    "id": "FO3z2Yy3TgKT"
   },
   "outputs": [],
   "source": [
    "''' n) Separe uma sentença do seu corpus e retorne \n",
    "todas as classes gramaticais das palavras da sentença. \n",
    "Analise se o etiquetador acertou todas as classes gramaticais. '''"
   ]
  },
  {
   "cell_type": "code",
   "execution_count": null,
   "metadata": {
    "id": "HMXmkF-gTgRp"
   },
   "outputs": [],
   "source": [
    "# o) Retorne as classes gramaticais de todas as palavras do seu corpus."
   ]
  },
  {
   "cell_type": "code",
   "execution_count": null,
   "metadata": {
    "id": "HWrNpbuxTgXz"
   },
   "outputs": [],
   "source": [
    "# p) Retorne as entidades nomeadas do seu corpus, usando a técnica de chunking."
   ]
  },
  {
   "cell_type": "markdown",
   "metadata": {
    "id": "xnZOlRfPQ8Me"
   },
   "source": [
    "### Exercícios de fixação presentes nos slides da aula que se encontram no Drive do curso: \n",
    "\n",
    "* Parte I (slides 26 a 29).\n",
    "\n",
    "* Parte II (slide 33).\n",
    "\n",
    "\n",
    "\n",
    "\n"
   ]
  },
  {
   "cell_type": "markdown",
   "metadata": {
    "id": "UavMTEo8UDDP"
   },
   "source": [
    "#### Exercícios - Parte I"
   ]
  },
  {
   "cell_type": "markdown",
   "metadata": {
    "id": "TyxrSEtFUc8E"
   },
   "source": [
    "##### 1. Dado o arquivo qbdata.txt, retorne o rating de cada QB na forma “nome do QB teve valor XX.X’ e escreva em um arquivo novo."
   ]
  },
  {
   "cell_type": "code",
   "execution_count": null,
   "metadata": {
    "id": "TRf84ImHUcCY"
   },
   "outputs": [],
   "source": []
  },
  {
   "cell_type": "code",
   "execution_count": null,
   "metadata": {
    "id": "wA1rhy2tVIev"
   },
   "outputs": [],
   "source": []
  },
  {
   "cell_type": "code",
   "execution_count": null,
   "metadata": {
    "id": "QTFXwBqrUPQ_"
   },
   "outputs": [],
   "source": []
  },
  {
   "cell_type": "markdown",
   "metadata": {
    "id": "7dkUojFtUi36"
   },
   "source": [
    "##### 2. Pensando em uma agenda, construa um dicionário com informações do contato sendo: CPF, nome, telefone e user no Twitter. \n",
    "\n",
    "##### Ao final, imprima todos os contatos da seguinte forma: \n",
    "* CPF: nome, telefone (user)"
   ]
  },
  {
   "cell_type": "code",
   "execution_count": null,
   "metadata": {
    "id": "usRGPOqQVH1t"
   },
   "outputs": [],
   "source": []
  },
  {
   "cell_type": "code",
   "execution_count": null,
   "metadata": {
    "id": "ii-pKQ7JVH41"
   },
   "outputs": [],
   "source": []
  },
  {
   "cell_type": "code",
   "execution_count": null,
   "metadata": {
    "id": "yguFiaIiVH-M"
   },
   "outputs": [],
   "source": []
  },
  {
   "cell_type": "markdown",
   "metadata": {
    "id": "ZBBFwho2UDbM"
   },
   "source": [
    "#### Exercícios - Parte II"
   ]
  },
  {
   "cell_type": "markdown",
   "metadata": {
    "id": "d1PlUlzaVg9w"
   },
   "source": [
    "##### Faça uma análise descritiva completa do nosso corpus de teste, utilizando as funções do NLTK.\n",
    "\n",
    "> Exemplos de atributos:\n",
    "* Quantidade de tokens.\n",
    "* Quantidade de sentenças / média do tamanho das\n",
    "sentenças.\n",
    "* Quantidade de substantivos, adjetivos, advérbios...\n",
    "* Quantidade de palavras com o mesmo radical.\n",
    "* Quantidade de símbolos de pontuação.\n",
    "* Palavras mais frequentes do corpus.\n",
    "\n"
   ]
  },
  {
   "cell_type": "code",
   "execution_count": null,
   "metadata": {
    "id": "NGx_HCTcRFq_"
   },
   "outputs": [],
   "source": []
  }
 ],
 "metadata": {
  "colab": {
   "name": "ResolucaoExercicios_Aula02.ipynb",
   "provenance": []
  },
  "kernelspec": {
   "name": "python3810jvsc74a57bd0d78eb9cdea7b493ab97a0e109d7b7455b52ee395cf9d873d3bef76d9f6713fbb",
   "display_name": "Python 3.8.10 64-bit"
  },
  "language_info": {
   "codemirror_mode": {
    "name": "ipython",
    "version": 3
   },
   "file_extension": ".py",
   "mimetype": "text/x-python",
   "name": "python",
   "nbconvert_exporter": "python",
   "pygments_lexer": "ipython3",
   "version": "3.8.10"
  },
  "metadata": {
   "interpreter": {
    "hash": "d78eb9cdea7b493ab97a0e109d7b7455b52ee395cf9d873d3bef76d9f6713fbb"
   }
  }
 },
 "nbformat": 4,
 "nbformat_minor": 1
}